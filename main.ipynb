{
 "cells": [
  {
   "cell_type": "code",
   "execution_count": 1,
   "metadata": {},
   "outputs": [],
   "source": [
    "from vectorCalc import * \n",
    "\n",
    "satelites1 = [[(7, 0), 5], [(17, 0), 5], [(12, -5), 5]]\n",
    "satelites2 = [[(0, 3), 4], [(-3, 0), 2]]\n",
    "\n",
    "\n",
    "def makeForSat(sat): \n",
    "    p1 = sat[0]\n",
    "    r1 = sat[1]\n",
    "    \n",
    "    amountX = -2 * p1[0]\n",
    "    amountY = -2 * p1[1]\n",
    "\n",
    "    dispoX = p1[0] ** 2\n",
    "    dispoY = p1[1] ** 2\n",
    "\n",
    "    res = r1 ** 2\n",
    "\n",
    "    kreisFormel = \"x^2 + y^2 - \" + str(amountX * -1) +\"x - \" + str(amountY * -1) + \"y + \" + str(dispoX) + \" + \" + str(dispoY) + \" = \" + str(res)\n",
    "\n",
    "    return [(amountX, amountY), dispoX + dispoY, res]\n",
    "\n",
    "\n",
    "def setInForm(sat): \n",
    "    restX = 0\n",
    "    restX += -2 * sat[0][0]\n",
    "\n",
    "    restY = 0\n",
    "    restY += -2 * sat[0][1]\n",
    "\n",
    "    behind = 0\n",
    "    behind += sat[0][0] ** 2\n",
    "    behind += sat[0][1] ** 2\n",
    "\n",
    "    return [(restX, restY), behind]\n",
    "\n",
    "def substractTwoForms(form1, form2): \n",
    "    return [(form1[0][0] - form2[0][0], form1[0][1] - form2[0][1]), form1[1] - form2[1]]\n",
    "\n",
    "def getValueForY(sat1, sat2):\n",
    "    pass\n",
    "\n"
   ]
  },
  {
   "cell_type": "markdown",
   "metadata": {},
   "source": [
    "# Run all the stuff"
   ]
  },
  {
   "cell_type": "code",
   "execution_count": 2,
   "metadata": {},
   "outputs": [
    {
     "name": "stdout",
     "output_type": "stream",
     "text": [
      "[16, 4]\n",
      "[[(0, -6), 9], [(6, 0), 9]]\n"
     ]
    }
   ],
   "source": [
    "sateliteForms = [setInForm(satelites2[0]), setInForm(satelites2[1])]\n",
    "results = [satelites2[0][1]**2, satelites2[1][1] ** 2]\n",
    "print(results)\n",
    "print(sateliteForms)\n",
    "subed = substractTwoForms(sateliteForms[0], sateliteForms[1])\n",
    "#getConnections(makeForSat(satelites1[0]), makeForSat(satelites1[1]))"
   ]
  }
 ],
 "metadata": {
  "kernelspec": {
   "display_name": "Python 3.9.7 64-bit",
   "language": "python",
   "name": "python3"
  },
  "language_info": {
   "codemirror_mode": {
    "name": "ipython",
    "version": 3
   },
   "file_extension": ".py",
   "mimetype": "text/x-python",
   "name": "python",
   "nbconvert_exporter": "python",
   "pygments_lexer": "ipython3",
   "version": "3.9.7"
  },
  "orig_nbformat": 4,
  "vscode": {
   "interpreter": {
    "hash": "81794d4967e6c3204c66dcd87b604927b115b27c00565d3d43f05ba2f3a2cb0d"
   }
  }
 },
 "nbformat": 4,
 "nbformat_minor": 2
}
