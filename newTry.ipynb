{
 "cells": [
  {
   "cell_type": "markdown",
   "metadata": {},
   "source": [
    "$$r_1^2 = (x+x_r)^2 + (y+y_r)^2 \\newline\n",
    "r_2^2 = x^2 + y^2 \\newline \n",
    "\n",
    "r_1^2 - r_2^2 = (x+x_r)^2 + (y+y_r)^2 - x^2 - y^2 \\newline\n",
    "r_1^2 - r_2^2 = 2xx_r + x_r^2 + 2yy_r + y_r^2$$"
   ]
  },
  {
   "cell_type": "markdown",
   "metadata": {},
   "source": [
    "$$\n",
    "\n",
    "r_1^2 - r_2^2 = 2x_r + x_r^2 + 2yy_r+y_r^2 \\newline\n",
    "\n",
    "r_1^2 - r_2^2 - 2xx_r = x_r^2 + 2yy_r + y_r^2 \\newline\n",
    "\n",
    "-2xx_r = x_r^2 + 2yy_r + y_r^2 - r_1^2 + r_2^2 \\newline \n",
    "\n",
    "x = \\frac{x_r^2+2yy_r+y_r^2-r_1^2+r_2^2}{-2x_r}\n",
    "\n",
    "$$"
   ]
  },
  {
   "cell_type": "markdown",
   "metadata": {},
   "source": [
    "$$\n",
    "\n",
    "x = \\frac{2yy_r + d}{-2x_r} \\newline \n",
    "d = x_r^2 + y_r^2-r_1^2+r_2^2 \\newline\n",
    "\n",
    "$$"
   ]
  },
  {
   "cell_type": "markdown",
   "metadata": {},
   "source": [
    "$$\n",
    "\n",
    "x^2 + y^2 = r_2^2 \\newline \n",
    "(\\frac{2yy_r + d}{-2x_r})^2 + y^2 = r_2^2 \\newline \n",
    "\n",
    "\\frac{4y^2y_r^2 + d^2 + 4dyy_r}{-4x_r^2} + y^2 = r_2^2 \\newline \n",
    "\n",
    "$$"
   ]
  },
  {
   "cell_type": "markdown",
   "metadata": {},
   "source": [
    "$$\n",
    "\n",
    "\\frac{4y^2y_r^2 + d^2 + 4dyy_r - 4y^2x_r^2}{-4x_r^2} = r_2^2\n",
    "\n",
    "$$"
   ]
  },
  {
   "cell_type": "markdown",
   "metadata": {},
   "source": [
    "$$\n",
    "\n",
    "4y^2y_r^2 + d^2 + 4dyy_r^2 + 4y^2x_r^2 = r_2^2 \\cdot (-4x_r^2)\n",
    "\n",
    "$$"
   ]
  },
  {
   "cell_type": "markdown",
   "metadata": {},
   "source": [
    "$$\n",
    "\n",
    "4y^2y_r^2 + d^2 + 4dyy_r^2 + 4y^2x_r^2 - (r_2^2 \\cdot (-4x_r^2)) = 0\n",
    "\n",
    "$$"
   ]
  },
  {
   "cell_type": "markdown",
   "metadata": {},
   "source": [
    "$$\n",
    "\n",
    "y^2 \\cdot 4(y_r^2 + x_r^2) + y \\cdot (4dy_r^2) + d^2 + r_2^2 \\cdot (4x_r^2) = 0\n",
    "\n",
    "$$"
   ]
  },
  {
   "cell_type": "markdown",
   "metadata": {},
   "source": [
    "# Kann man Orientierungssystem "
   ]
  },
  {
   "cell_type": "markdown",
   "metadata": {},
   "source": []
  },
  {
   "cell_type": "markdown",
   "metadata": {},
   "source": [
    "$$\n",
    "\n",
    "(x + x_r)^2 + (y + y_r)^2 = r_1^2 \\newline \n",
    "x^2 + y^2 = r_2^2\n",
    "\n",
    "$$"
   ]
  },
  {
   "cell_type": "markdown",
   "metadata": {},
   "source": [
    "## Ziel:\n",
    "\n",
    "$$\n",
    "\n",
    "y^2 \\cdot (1 + \\frac{x_r^2}{y_r^2}) + y \\cdot \\frac{-(dx_r)}{-y_r^2} + \\frac{d^2}{4y_r^2}-r_1^2 = 0 \n",
    "\n",
    "$$"
   ]
  },
  {
   "cell_type": "markdown",
   "metadata": {},
   "source": [
    "$$\n",
    "\n",
    "y^2 + \\frac{x_r^2 \\cdot y^2 + y \\cdot d \\cdot x_r}{y_r^2} + \\frac{d^2}{4y_r^2} - r_1^2 = 0\n",
    "\n",
    "$$"
   ]
  },
  {
   "cell_type": "markdown",
   "metadata": {},
   "source": [
    "$$\n",
    "\n",
    "r_1^2 = (\\frac{x_r^2 \\cdot y^2 + ydx_r}{y_r^2} + \\frac{d^2}{4y_r^2}) + y^2\n",
    "\n",
    "$$"
   ]
  },
  {
   "cell_type": "markdown",
   "metadata": {},
   "source": [
    "$$ d = (r_2^2 - r_1^2) - x_r^2 - y_r^2 $$"
   ]
  },
  {
   "cell_type": "markdown",
   "metadata": {},
   "source": [
    "$$\n",
    "\n",
    "r_1^2 = \\frac{x_r^2 \\cdot y^2 + yx_rr_2^2 - yx_rr_1-yx_r^3-yy_r^2x_r^2}{y_r^2} + \\frac{r_2^2-r_1^2-x_r^2-y_r^2}{4y_r^2} + y^2\n",
    "\n",
    "$$"
   ]
  }
 ],
 "metadata": {
  "kernelspec": {
   "display_name": "Python 3.10.4 64-bit",
   "language": "python",
   "name": "python3"
  },
  "language_info": {
   "name": "python",
   "version": "3.10.4"
  },
  "orig_nbformat": 4,
  "vscode": {
   "interpreter": {
    "hash": "99b99253e4eefef4299a6bd3a6638cb63be660c296e729ed55b594abbca06309"
   }
  }
 },
 "nbformat": 4,
 "nbformat_minor": 2
}
