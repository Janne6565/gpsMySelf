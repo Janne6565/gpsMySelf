{
 "cells": [
  {
   "cell_type": "markdown",
   "metadata": {},
   "source": []
  },
  {
   "cell_type": "code",
   "execution_count": 17,
   "metadata": {},
   "outputs": [
    {
     "name": "stdout",
     "output_type": "stream",
     "text": [
      "[-0.2324081207560018, -1.434258545910665]\n",
      "[2.5435595774162696, -0.9435595774162696]\n"
     ]
    }
   ],
   "source": [
    "import math \n",
    "\n",
    "def useABC(a, b, c, debug):\n",
    "    results = [] \n",
    "    for neg in [1, -1]: \n",
    "        inSqrt = b**2-4*a*c\n",
    "        if (inSqrt < 0):\n",
    "            raise(Exception(\"Cant use sqrt on numbers < 0\"))\n",
    "        top = b * -1 + (neg*(math.sqrt(inSqrt))) \n",
    "        bot = 2*a\n",
    "        results.append(top/bot)\n",
    "\n",
    "    return results\n",
    "\n",
    "def result(x_1, y_1, r_1, r_2): \n",
    "    theta = (r_2**2 - r_1**2 - y_1**2 - x_1**2) / (2 * x_1) \n",
    "    a = 1 + ((y_1**2) / x_1**2)\n",
    "    b = (-2 * (theta * y_1)) / x_1\n",
    "    c = theta**2 - r_1**2 \n",
    "    return useABC(a, b, c, False)\n",
    "\n",
    "print(useABC(3, 5, 1, False))\n",
    "\n",
    "print(result(1, 2, 4, 5))"
   ]
  }
 ],
 "metadata": {
  "kernelspec": {
   "display_name": "Python 3.9.7 64-bit",
   "language": "python",
   "name": "python3"
  },
  "language_info": {
   "codemirror_mode": {
    "name": "ipython",
    "version": 3
   },
   "file_extension": ".py",
   "mimetype": "text/x-python",
   "name": "python",
   "nbconvert_exporter": "python",
   "pygments_lexer": "ipython3",
   "version": "3.9.7"
  },
  "orig_nbformat": 4,
  "vscode": {
   "interpreter": {
    "hash": "81794d4967e6c3204c66dcd87b604927b115b27c00565d3d43f05ba2f3a2cb0d"
   }
  }
 },
 "nbformat": 4,
 "nbformat_minor": 2
}
