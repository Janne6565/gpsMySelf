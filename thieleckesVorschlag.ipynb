{
 "cells": [
  {
   "cell_type": "markdown",
   "metadata": {},
   "source": [
    "# X Erhalten\n",
    "$2xx_1+x_1^2+2yy_1+y_1^2=r_1^2-r_2^2$"
   ]
  },
  {
   "cell_type": "markdown",
   "metadata": {},
   "source": [
    "$x_1^2+2yy_1+y_1^2=r_1^2-r_2^2-2xx_1$ | $-2xx_1$"
   ]
  },
  {
   "cell_type": "markdown",
   "metadata": {},
   "source": [
    "$x_1^2+2yy_1+y_1^2-r_1^2+r_2^2=-2xx_1$ | $-(r_1^2-r_2^2)$"
   ]
  },
  {
   "cell_type": "markdown",
   "metadata": {},
   "source": [
    "$\\frac{x_1^2+2yy_1+y_1^2-r_1^2+r_2^2}{-2x_1} = x$"
   ]
  },
  {
   "cell_type": "markdown",
   "metadata": {},
   "source": [
    "# Einsetzen\n",
    "\n",
    "$x^2+y^2=r_2^2$\n"
   ]
  },
  {
   "cell_type": "markdown",
   "metadata": {},
   "source": [
    "$(\\frac{x_1^2+2yy_1+y_1^2-r_1^2+r_2^2}{-2x_1})^2+y^2=r_2^2$"
   ]
  },
  {
   "cell_type": "markdown",
   "metadata": {},
   "source": [
    "# Nebenrechnung: \n",
    "\n",
    "$(x_1^2+2yy_1+y_1^2-r_1^2+r_2^2)^2$"
   ]
  },
  {
   "cell_type": "markdown",
   "metadata": {},
   "source": [
    "$(x_1^2+2yy_1+y_1^2-r_1^2+r_2^2)*(x_1^2+2yy_1+y_1^2-r_1^2+r_2^2)$\n",
    "\n",
    "$=x_1^4+2yy_1x_1^2+x_1^2y_1^2-r_1^2x_1^2+r_2^2x_1^2+2yy_1x_1^2+(2yy_1)^2+2yy_1^3-r_1^22yy_1+r_2^22yy_1+y_1^2x_1^2+2yy_1^3+y_1^4-r_1^2y_1^2+r_2^2y_1^2-x_1^2r_1^2-2yy_1r_1^2-y_1^2r_1^2+r_1^4-r_1^2r_2^2+x_1^2r_2^2+2yy_1r_2^2+y_1^2r_2^2-r_1^2r_2^2+r_2^4$"
   ]
  },
  {
   "cell_type": "markdown",
   "metadata": {},
   "source": [
    "$ = x_1^4+4yy_1x_1^2+2x_1^2y_1^2-2r_1^2x_1^2+2r_2^2x_1^2+(2yy_1)^2+4yy_1^3-4yy_1r_1^2+4yy_1r_2^2+y_1^4-2r_1^2y_1^2+2y_1^2r_2^2+r_1^4-2r_1^2r_2^2+r_2^4$"
   ]
  },
  {
   "cell_type": "markdown",
   "metadata": {},
   "source": [
    "$(-2x_1)^2=(-2*x_1)*(-2*x_1)=4x_1^2$"
   ]
  },
  {
   "cell_type": "markdown",
   "metadata": {},
   "source": [
    "# Einsetzen\n",
    "\n",
    "$\\frac{x_1^4+4yy_1x_1^2+2x_1^2y_1^2-2r_1^2x_1^2+2r_2^2x_1^2+(2yy_1)^2+4yy_1^3-4yy_1r_1^2+4yy_1r_2^2+y_1^4-2r_1^2y_1^2+2y_1^2r_2^2+r_1^4-2r_1^2r_2^2+r_2^4}{4x_1^2}+y^2=r_2^2$"
   ]
  },
  {
   "cell_type": "markdown",
   "metadata": {},
   "source": [
    "$\\frac{x_1^4+4yy_1x_1^2+2x_1^2y_1^2-2r_1^2x_1^2+2r_2^2x_1^2+(2yy_1)^2+4yy_1^3-4yy_1r_1^2+4yy_1r_2^2+y_1^4-2r_1^2y_1^2+2y_1^2r_2^2+r_1^4-2r_1^2r_2^2+r_2^4+4x_1^2y^2}{4x_1^2}=r_2^2$"
   ]
  },
  {
   "cell_type": "markdown",
   "metadata": {},
   "source": [
    "$x_1^4+4yy_1x_1^2+2x_1^2y_1^2-2r_1^2x_1^2+2r_2^2x_1^2+(2yy_1)^2+4yy_1^3-4yy_1r_1^2+4yy_1r_2^2+y_1^4-2r_1^2y_1^2+2y_1^2r_2^2+r_1^4-2r_1^2r_2^2+r_2^4+4x_1^2y^2=r_2^2*4x_1^2$"
   ]
  },
  {
   "cell_type": "markdown",
   "metadata": {},
   "source": [
    "# Zusammenfassen\n",
    "\n",
    "$x_1^4+4yy_1x_1^2+2x_1^2y_1^2-2r_1^2x_1^2+2r_2^2x_1^2+(2yy_1)^2+4yy_1^3-4yy_1r_1^2+4yy_1r_2^2+y_1^4-2r_1^2y_1^2+2y_1^2r_2^2+r_1^4-2r_1^2r_2^2+r_2^4+4x_1^2y^2-(r_2^2*4x_1^2)=0$"
   ]
  },
  {
   "cell_type": "markdown",
   "metadata": {},
   "source": [
    "$y^2*a+y*b+c$\n",
    "\n",
    "$ c = x_1^4+2x_1^2y_1^2-2r_1^2x_1^2+2r_2^2x_1^2+y_1^4-2r_1^2y_1^2+2y_1^2r_2^2+r_1^4-2r_1^2r_2^2+r_2^4 -4x_1^2r_2^2$\n",
    "\n",
    "$ b = 4yy_1x_1^2+4yy_1^3-4yy_1r_1^2+4yy_1r_2^2 = y*4y_1(x_1^2+y_1-r_1^2+r_2^2)$\n",
    "\n",
    "$ a = 4x_1^2y^2 + (2yy_1)^2 = 4x_1^2y^2 + 4y^2y_1^2 = y^2*4(x_1^2+y_1^2)$"
   ]
  },
  {
   "cell_type": "markdown",
   "metadata": {},
   "source": [
    "$ 0 = y^2*4(x_1^2+y_1^2) + y*4y_1(x_1^2+y_1-r_1^2+r_2^2) + (x_1^4+2x_1^2y_1^2-2r_1^2x_1^2+2r_2^2x_1^2+y_1^4-2r_1^2y_1^2+2y_1^2r_2^2+r_1^4-2r_1^2r_2^2+r_2^4-4x_1^2r_2^2) $"
   ]
  },
  {
   "cell_type": "markdown",
   "metadata": {},
   "source": [
    "# ABC-Formel\n",
    "\n",
    "$ x_{0,1}=\\frac{-b\\pm\\sqrt{b^2-4ac}}{2a} $"
   ]
  },
  {
   "cell_type": "markdown",
   "metadata": {},
   "source": [
    "$ a = 4(x_1^2+y_1^2) $\n",
    "\n",
    "$ b = 4y_1(x_1^2+y_1-r_1^2+r_2^2) $\n",
    "\n",
    "$ c = x_1^4+2x_1^2y_1^2-2r_1^2x_1^2+2r_2^2x_1^2+y_1^4-2r_1^2y_1^2+2y_1^2r_2^2+r_1^4-2r_1^2r_2^2+r_2^4-4x_1^2r_2^2$"
   ]
  },
  {
   "cell_type": "code",
   "execution_count": 21,
   "metadata": {},
   "outputs": [
    {
     "name": "stdout",
     "output_type": "stream",
     "text": [
      "(x1, y1) (r1, r2): (2, 2) (1, 2)\n",
      "(a,b,c): (32, 72, 57)\n",
      "inSqrt: -2112\n"
     ]
    },
    {
     "ename": "Exception",
     "evalue": "Cant use sqrt on numbers < 0",
     "output_type": "error",
     "traceback": [
      "\u001b[1;31m---------------------------------------------------------------------------\u001b[0m",
      "\u001b[1;31mException\u001b[0m                                 Traceback (most recent call last)",
      "Cell \u001b[1;32mIn [21], line 44\u001b[0m\n\u001b[0;32m     41\u001b[0m p2 \u001b[38;5;241m=\u001b[39m (\u001b[38;5;241m0\u001b[39m, \u001b[38;5;241m0\u001b[39m)\n\u001b[0;32m     42\u001b[0m r2 \u001b[38;5;241m=\u001b[39m \u001b[38;5;241m2\u001b[39m\n\u001b[1;32m---> 44\u001b[0m \u001b[38;5;28mprint\u001b[39m(\u001b[43mcalculateIntersections\u001b[49m\u001b[43m(\u001b[49m\u001b[43m[\u001b[49m\u001b[43mp1\u001b[49m\u001b[43m,\u001b[49m\u001b[43m \u001b[49m\u001b[43mr1\u001b[49m\u001b[43m]\u001b[49m\u001b[43m,\u001b[49m\u001b[43m \u001b[49m\u001b[43m[\u001b[49m\u001b[43mp2\u001b[49m\u001b[43m,\u001b[49m\u001b[43m \u001b[49m\u001b[43mr2\u001b[49m\u001b[43m]\u001b[49m\u001b[43m,\u001b[49m\u001b[43m \u001b[49m\u001b[38;5;28;43;01mTrue\u001b[39;49;00m\u001b[43m)\u001b[49m)\n",
      "Cell \u001b[1;32mIn [21], line 37\u001b[0m, in \u001b[0;36mcalculateIntersections\u001b[1;34m(c1, c2, debug)\u001b[0m\n\u001b[0;32m     35\u001b[0m \u001b[38;5;28;01mif\u001b[39;00m (debug): \n\u001b[0;32m     36\u001b[0m     \u001b[38;5;28mprint\u001b[39m(\u001b[38;5;124m\"\u001b[39m\u001b[38;5;124m(a,b,c): \u001b[39m\u001b[38;5;124m\"\u001b[39m \u001b[38;5;241m+\u001b[39m \u001b[38;5;28mstr\u001b[39m((a, b, c)))\n\u001b[1;32m---> 37\u001b[0m \u001b[38;5;28;01mreturn\u001b[39;00m \u001b[43museABC\u001b[49m\u001b[43m(\u001b[49m\u001b[43ma\u001b[49m\u001b[43m,\u001b[49m\u001b[43m \u001b[49m\u001b[43mb\u001b[49m\u001b[43m,\u001b[49m\u001b[43m \u001b[49m\u001b[43mc\u001b[49m\u001b[43m,\u001b[49m\u001b[43m \u001b[49m\u001b[43mdebug\u001b[49m\u001b[43m)\u001b[49m\n",
      "Cell \u001b[1;32mIn [21], line 13\u001b[0m, in \u001b[0;36museABC\u001b[1;34m(a, b, c, debug)\u001b[0m\n\u001b[0;32m     11\u001b[0m     \u001b[38;5;28mprint\u001b[39m(\u001b[38;5;124m\"\u001b[39m\u001b[38;5;124minSqrt: \u001b[39m\u001b[38;5;124m\"\u001b[39m \u001b[38;5;241m+\u001b[39m \u001b[38;5;28mstr\u001b[39m(inSqrt))\n\u001b[0;32m     12\u001b[0m \u001b[38;5;28;01mif\u001b[39;00m (inSqrt \u001b[38;5;241m<\u001b[39m \u001b[38;5;241m0\u001b[39m):\n\u001b[1;32m---> 13\u001b[0m     \u001b[38;5;28;01mraise\u001b[39;00m(\u001b[38;5;167;01mException\u001b[39;00m(\u001b[38;5;124m\"\u001b[39m\u001b[38;5;124mCant use sqrt on numbers < 0\u001b[39m\u001b[38;5;124m\"\u001b[39m))\n\u001b[0;32m     14\u001b[0m top \u001b[38;5;241m=\u001b[39m b \u001b[38;5;241m*\u001b[39m \u001b[38;5;241m-\u001b[39m\u001b[38;5;241m1\u001b[39m \u001b[38;5;241m+\u001b[39m (neg\u001b[38;5;241m*\u001b[39m(math\u001b[38;5;241m.\u001b[39msqrt(inSqrt))) \n\u001b[0;32m     15\u001b[0m bot \u001b[38;5;241m=\u001b[39m \u001b[38;5;241m2\u001b[39m\u001b[38;5;241m*\u001b[39ma\n",
      "\u001b[1;31mException\u001b[0m: Cant use sqrt on numbers < 0"
     ]
    }
   ],
   "source": [
    "import math\n",
    "\n",
    "# Format for Circle: \n",
    "# [(x, y), r]\n",
    "\n",
    "def useABC(a, b, c, debug):\n",
    "    results = [] \n",
    "    for neg in [1, -1]: \n",
    "        inSqrt = b**2-4*a*c\n",
    "        if (debug): \n",
    "            print(\"inSqrt: \" + str(inSqrt))\n",
    "        if (inSqrt < 0):\n",
    "            raise(Exception(\"Cant use sqrt on numbers < 0\"))\n",
    "        top = b * -1 + (neg*(math.sqrt(inSqrt))) \n",
    "        bot = 2*a\n",
    "        results.append(top/bot)\n",
    "\n",
    "    return results\n",
    "\n",
    "# Point one: (2, 2) r: 1\n",
    "# Point two: (0, 0) r: 2\n",
    "# Intersections (from GeoGebra): [(1.04, 1.7), (1.7, 1.04)]\n",
    "\n",
    "def calculateIntersections(c1, c2, debug): \n",
    "    x1 = c1[0][0] - c2[0][0]\n",
    "    y1 = c1[0][1] - c2[0][1]\n",
    "    r1 = c1[1]\n",
    "    r2 = c2[1]\n",
    "    if (debug):\n",
    "        print(\"(x1, y1) (r1, r2): \" + str((x1, y1)) + \" \" + str((r1, r2)))\n",
    "\n",
    "    a = 4 * (x1**2+y1**2)\n",
    "    b = 4 * y1*(x1**2+y1-r1**2+r2**2)\n",
    "    c = x1**4+2*x1**2*y1**2-2*r1**2*x1**2+2*r2**2*x1**2+y1**4-2*r1**2*y1**2+2*y1**2*r2**2+r1**4-2*r1**2*r2**2+r2**4-4*x1**2*r2**2\n",
    "    if (debug): \n",
    "        print(\"(a,b,c): \" + str((a, b, c)))\n",
    "    return useABC(a, b, c, debug)\n",
    "\n",
    "p1 = (2, 2)\n",
    "r1 = 1\n",
    "p2 = (0, 0)\n",
    "r2 = 2\n",
    "\n",
    "print(calculateIntersections([p1, r1], [p2, r2], True))\n"
   ]
  }
 ],
 "metadata": {
  "kernelspec": {
   "display_name": "Python 3.9.7 64-bit",
   "language": "python",
   "name": "python3"
  },
  "language_info": {
   "codemirror_mode": {
    "name": "ipython",
    "version": 3
   },
   "file_extension": ".py",
   "mimetype": "text/x-python",
   "name": "python",
   "nbconvert_exporter": "python",
   "pygments_lexer": "ipython3",
   "version": "3.9.7"
  },
  "orig_nbformat": 4,
  "vscode": {
   "interpreter": {
    "hash": "81794d4967e6c3204c66dcd87b604927b115b27c00565d3d43f05ba2f3a2cb0d"
   }
  }
 },
 "nbformat": 4,
 "nbformat_minor": 2
}
