{
 "cells": [
  {
   "attachments": {},
   "cell_type": "markdown",
   "metadata": {},
   "source": [
    "# Notizen 8.1.2023\n",
    "\n",
    "Messungen ohne Mikrofon direkt an Soundinterface: (0m)\n",
    "0.048124666666852\n",
    "-0.21937220000004723\n",
    "-0.1669859333332639\n",
    "0.06709719999998284\n",
    "\n",
    "Nach kurzem Warten: \n",
    "3.67091680000013"
   ]
  }
 ],
 "metadata": {
  "kernelspec": {
   "display_name": "Python 3",
   "language": "python",
   "name": "python3"
  },
  "language_info": {
   "name": "python",
   "version": "3.10.4 (tags/v3.10.4:9d38120, Mar 23 2022, 23:13:41) [MSC v.1929 64 bit (AMD64)]"
  },
  "orig_nbformat": 4,
  "vscode": {
   "interpreter": {
    "hash": "99b99253e4eefef4299a6bd3a6638cb63be660c296e729ed55b594abbca06309"
   }
  }
 },
 "nbformat": 4,
 "nbformat_minor": 2
}
