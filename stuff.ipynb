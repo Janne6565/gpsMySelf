{
 "cells": [
  {
   "cell_type": "markdown",
   "metadata": {},
   "source": [
    "# Gedöns\n",
    "\n",
    "$$\n",
    "1^2 = (x+2)^2 + (y+2)^2 \\newline\n",
    "1^2 = (x+3)^2 + (y+3)^2\n",
    "$$"
   ]
  },
  {
   "cell_type": "markdown",
   "metadata": {},
   "source": [
    "$$\n",
    "((x+3)^2+(y+3)^2)-((x+2)^2+(y+2)^2) = 1^2 - 1^2 \\newline\n",
    "(3x+x^2+9 + 3y+y^2+9) - (2x + x^2 + 4 + 2y + y^2 + 4) = 0\n",
    "$$"
   ]
  },
  {
   "cell_type": "markdown",
   "metadata": {},
   "source": [
    "$$\n",
    "(x + 5 + y + 5) = 0 \\newline\n",
    "10 + x + y = 0 \\newline\n",
    "x = -10 - y \\newline\n",
    "\n",
    "$$"
   ]
  },
  {
   "cell_type": "markdown",
   "metadata": {},
   "source": [
    "$$\n",
    "1^2 = (-10-y+3)^2+(y+3)^2 \\newline\n",
    "1^2 = (-7-y)^2 + (y+3)^2 \\newline\n",
    "1^2 = 49 + y^2 + 7y + 9 + y^2 + 3y \\newline\n",
    "1^2 = 58 + 2y^2 + 10y\n",
    "$$"
   ]
  },
  {
   "cell_type": "markdown",
   "metadata": {},
   "source": [
    "$$\n",
    "0 = 2y^2 + 10y + 57\n",
    "$$"
   ]
  },
  {
   "cell_type": "markdown",
   "metadata": {},
   "source": [
    "# Für PQ Formel umstellen\n",
    "\n",
    "$ 0 = y^2 + 5y + 28,5 $\n",
    "\n",
    "\n"
   ]
  },
  {
   "cell_type": "code",
   "execution_count": 3,
   "metadata": {},
   "outputs": [
    {
     "ename": "ValueError",
     "evalue": "math domain error",
     "output_type": "error",
     "traceback": [
      "\u001b[1;31m---------------------------------------------------------------------------\u001b[0m",
      "\u001b[1;31mValueError\u001b[0m                                Traceback (most recent call last)",
      "Cell \u001b[1;32mIn [3], line 12\u001b[0m\n\u001b[0;32m      9\u001b[0m         results\u001b[38;5;241m.\u001b[39mappend(first \u001b[38;5;241m+\u001b[39m neg \u001b[38;5;241m*\u001b[39m second)\n\u001b[0;32m     10\u001b[0m     \u001b[38;5;28;01mreturn\u001b[39;00m results\n\u001b[1;32m---> 12\u001b[0m \u001b[38;5;28mprint\u001b[39m(\u001b[43musePQ\u001b[49m\u001b[43m(\u001b[49m\u001b[38;5;241;43m2\u001b[39;49m\u001b[43m,\u001b[49m\u001b[43m \u001b[49m\u001b[38;5;241;43m9.5\u001b[39;49m\u001b[43m)\u001b[49m)\n",
      "Cell \u001b[1;32mIn [3], line 8\u001b[0m, in \u001b[0;36musePQ\u001b[1;34m(p, q)\u001b[0m\n\u001b[0;32m      5\u001b[0m     first \u001b[38;5;241m=\u001b[39m \u001b[38;5;241m-\u001b[39mp\u001b[38;5;241m/\u001b[39m\u001b[38;5;241m2\u001b[39m\n\u001b[0;32m      7\u001b[0m     inSqrt \u001b[38;5;241m=\u001b[39m (p\u001b[38;5;241m/\u001b[39m\u001b[38;5;241m2\u001b[39m)\u001b[38;5;241m*\u001b[39m\u001b[38;5;241m*\u001b[39m\u001b[38;5;241m2\u001b[39m\u001b[38;5;241m-\u001b[39mq\n\u001b[1;32m----> 8\u001b[0m     second \u001b[38;5;241m=\u001b[39m \u001b[43mmath\u001b[49m\u001b[38;5;241;43m.\u001b[39;49m\u001b[43msqrt\u001b[49m\u001b[43m(\u001b[49m\u001b[43minSqrt\u001b[49m\u001b[43m)\u001b[49m\n\u001b[0;32m      9\u001b[0m     results\u001b[38;5;241m.\u001b[39mappend(first \u001b[38;5;241m+\u001b[39m neg \u001b[38;5;241m*\u001b[39m second)\n\u001b[0;32m     10\u001b[0m \u001b[38;5;28;01mreturn\u001b[39;00m results\n",
      "\u001b[1;31mValueError\u001b[0m: math domain error"
     ]
    }
   ],
   "source": [
    "import math\n",
    "def usePQ(p, q): \n",
    "    results = []\n",
    "    for neg in [-1, 1]: \n",
    "        first = -p/2\n",
    "        \n",
    "        inSqrt = (p/2)**2-q\n",
    "        second = math.sqrt(inSqrt)\n",
    "        results.append(first + neg * second)\n",
    "    return results\n",
    "\n",
    "print(usePQ(2, 9.5))"
   ]
  },
  {
   "cell_type": "markdown",
   "metadata": {},
   "source": [
    "$$\n",
    "1^2 = (x-2)^2+(y-2)^2 \\newline\n",
    "1^2 = (x-3)^2+(y-3)^2 \\newline\n",
    "$$"
   ]
  },
  {
   "cell_type": "markdown",
   "metadata": {},
   "source": [
    "$$\n",
    "\n",
    "1^2 - 1^2 = 0 = (x^2 - 4x + y^2 - 4y + 8) - (x^2 - 6x + y^2 - 6y + 18) \\newline\n",
    "= -10x - 10y - 10 \n",
    "\n",
    "$$"
   ]
  },
  {
   "cell_type": "markdown",
   "metadata": {},
   "source": [
    "$$\n",
    "\n",
    "1^2 - 1^2 = 0 = (x^2 - 4x + y^2 - 4y + 8) - (x^2 - 6x + y^2 - 6y + 18) \\newline\n",
    "= 2x + 2y - 10 \n",
    "\n",
    "$$"
   ]
  },
  {
   "cell_type": "markdown",
   "metadata": {},
   "source": [
    "$$\n",
    "0 = -10x - 10y - 10\n",
    "$$"
   ]
  },
  {
   "cell_type": "markdown",
   "metadata": {},
   "source": [
    "$$\n",
    "\n",
    "0 = 2x + 2y - 10\n",
    "\n",
    "$$"
   ]
  },
  {
   "cell_type": "markdown",
   "metadata": {},
   "source": [
    "$$\n",
    "2x = -2y - 10 \\newline\n",
    "x = - y - 5\n",
    "$$"
   ]
  },
  {
   "cell_type": "markdown",
   "metadata": {},
   "source": [
    "$$\n",
    "1^2 = (-y-4)^2 + (y-2)^2 = y^2 + 8y + 16 + y^2 - 4y + 4 \\newline\n",
    "0 = 2y^2 + 4y + 19 \\newline\n",
    "0 = y^2 + 2y + 9,5\n",
    "$$"
   ]
  }
 ],
 "metadata": {
  "kernelspec": {
   "display_name": "Python 3.9.7 64-bit",
   "language": "python",
   "name": "python3"
  },
  "language_info": {
   "codemirror_mode": {
    "name": "ipython",
    "version": 3
   },
   "file_extension": ".py",
   "mimetype": "text/x-python",
   "name": "python",
   "nbconvert_exporter": "python",
   "pygments_lexer": "ipython3",
   "version": "3.9.7"
  },
  "orig_nbformat": 4,
  "vscode": {
   "interpreter": {
    "hash": "81794d4967e6c3204c66dcd87b604927b115b27c00565d3d43f05ba2f3a2cb0d"
   }
  }
 },
 "nbformat": 4,
 "nbformat_minor": 2
}
