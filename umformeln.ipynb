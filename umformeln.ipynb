{
 "cells": [
  {
   "cell_type": "markdown",
   "metadata": {},
   "source": [
    "# Gegeben: \n",
    "\n",
    "$x_1=0;y_1=2;r_1=4$ \n",
    "\n",
    "$x_2=1;y_2=3;r_2=3$"
   ]
  },
  {
   "cell_type": "markdown",
   "metadata": {},
   "source": [
    "# Formeln:\n",
    "\n",
    "$ (x+x_1)^2+(y+y_1)^2=r_1^2 $ \n",
    "\n",
    "$x^2+y^2+x_1*x+y_1*y+x_1^2+y_1^2=r_1^2$\n",
    "\n",
    "$ x^2+y^2=r_2^2 $ \n"
   ]
  },
  {
   "cell_type": "markdown",
   "metadata": {},
   "source": [
    "$ = x_1x+y_1y+x^2_1+y^2_1 = r_1^2-r_2^2 $\n"
   ]
  },
  {
   "cell_type": "markdown",
   "metadata": {},
   "source": [
    "# Neuer Versuch \n",
    "Start: \n",
    "\n",
    "$ = x_1x+y_1y+x_1^2+y_1^2-r_1^2+r_2^2 = 0$\n",
    "\n",
    "$ y_1y+x_1^2+y_1^2-r_1^2+r_2^2 = -x_1x $"
   ]
  },
  {
   "cell_type": "markdown",
   "metadata": {},
   "source": [
    "$ x = \\frac{y_1y+x_1^2+y_1^2-r_1^2+r_2^2}{-x_1}$\n",
    "\n",
    "$ 2x_1x+x_1^2+2y_1y+y_1^2 = r_1 $\n",
    "\n",
    "$ (\\frac{y_1y+x_1^2+y_1^2-r_1^2+r_2^2}{-x_1})^2 + y^2 = r_2^2 $"
   ]
  },
  {
   "cell_type": "markdown",
   "metadata": {},
   "source": [
    "$\\frac{x_1^4 + 2 x_1^2 y_1^2 + 2 x_1^2 y_1 y + 2 x_1^2 r_2^2 - 2 x_1^2 r_1^2 + y_1^4 + 2 y_1^3 y + 2 y_1^2 r_2^2 - 2 y_1^2 r_1^2 + y_1^2 y^2 + 2 y_1 r_2^2 y - 2 y_1 r_1^2 y + r_2^4 - 2 r_2^2 r_1^2 + r_1^4}{-x_1^2}+y^2=r_2^2$"
   ]
  },
  {
   "cell_type": "markdown",
   "metadata": {},
   "source": [
    "$ \\frac{x_1^4 + 2 x_1^2 y_1^2 + 2 x_1^2 y_1 y + 2 x_1^2 r_2^2 - 2 x_1^2 r_1^2 + y_1^4 + 2 y_1^3 y + 2 y_1^2 r_2^2 - 2 y_1^2 r_1^2 + y_1^2 y^2 + 2 y_1 r_2^2 y - 2 y_1 r_1^2 y + r_2^4 - 2 r_2^2 r_1^2 + r_1^4-x_1^2y^2}{-x_1^2}=r_2^2 $"
   ]
  },
  {
   "cell_type": "markdown",
   "metadata": {},
   "source": [
    "$ y_1^2 y^2 + 2 y_1 r_2^2 y - 2 y_1 r_1^2 y + 2 x_1^2 y_1 y - x_1^2y^2 + 2 y_1^3 y + d =r_2^2 * -x_1^2$"
   ]
  },
  {
   "cell_type": "markdown",
   "metadata": {},
   "source": [
    "$ y*(y+y_1^2+2y_1r_2^2-2y_1r_1^2+2x_1^2y_1-x_1^2y+2y_1^2) + d = r_2^2*-x_1^2 $"
   ]
  },
  {
   "cell_type": "markdown",
   "metadata": {},
   "source": [
    "$ y*(y+y_1*(y_1+2r_2^2-2r_1^2+2x_1^2+2y_1)-x_1^2y) + d = r_2^2*-x_1^2 $"
   ]
  },
  {
   "cell_type": "markdown",
   "metadata": {},
   "source": [
    "$ y*(y+y_1*(y_1+2* (r_2^2-r_1^2+x_1^2+y_1))-x_1^2y) + d = r_2^2*-x_1^2 $"
   ]
  },
  {
   "cell_type": "markdown",
   "metadata": {},
   "source": [
    "$ y*(y+y_1*(y_1+2r_2^2-2r_1^2+2x_1^2+2y_1)-x_1^2y) = r_2^2*-x_1^2 - d $"
   ]
  },
  {
   "cell_type": "markdown",
   "metadata": {},
   "source": [
    "$ d = x_1^4 + 2 x_1^2 y_1^2 + 2 x_1^2 r_2^2 - 2 x_1^2 r_1^2 + y_1^4 + 2 y_1^2 r_2^2 - 2 y_1^2 r_1^2 + r_2^4 - 2 r_2^2 r_1^2+ r_1^4 $"
   ]
  },
  {
   "cell_type": "markdown",
   "metadata": {},
   "source": [
    "$ y^2+y*(y_1*(y_1+2r_2^2-2r_1^2+2x_1^2+2y_1)-x_1^2y) - (r_2^2 * -x_1^2-d) = 0 $"
   ]
  },
  {
   "cell_type": "markdown",
   "metadata": {},
   "source": [
    "$ y^2+y*(y_1*(y_1+2r_2^2-2r_1^2+2x_1^2+2y_1)-x_1^2y) - newD = 0 $"
   ]
  },
  {
   "cell_type": "markdown",
   "metadata": {},
   "source": [
    "$ y^2+y^2x_1^2 + y * (y_1*(y_1 + 2(r_2^2-r_1^2+x_1^2+y_1))) - newD = 0 $"
   ]
  },
  {
   "cell_type": "markdown",
   "metadata": {},
   "source": [
    "$ y^2*(1+x_1^2) + y * (y_1*(y_1 + 2(r_2^2-r_1^2+x_1^2+y_1))) - newD = 0 $"
   ]
  },
  {
   "cell_type": "markdown",
   "metadata": {},
   "source": [
    "$ newD = (r_2^2*-x_1^2) - x_1^4 + 2 x_1^2 y_1^2 + 2 x_1^2 r_2^2 - 2 x_1^2 r_1^2 + y_1^4 + 2 y_1^2 r_2^2 - 2 y_1^2 r_1^2 + r_2^4 - 2 r_2^2 r_1^2+ r_1^4 $"
   ]
  },
  {
   "cell_type": "markdown",
   "metadata": {},
   "source": [
    "# Lets finish it\n",
    "\n",
    "$ a = (1+x_1^2) $\n",
    "\n",
    "$ b = (y_1*(y_1+2(r_2^2-r_1^2+x_1^2+y_1))) $ \n",
    "\n",
    "$ c = - ((r_2^2*-x_1^2) - x_1^4 + 2 x_1^2 y_1^2 + 2 x_1^2 r_2^2 - 2 x_1^2 r_1^2 + y_1^4 + 2 y_1^2 r_2^2 - 2 y_1^2 r_1^2 + r_2^4 - 2 r_2^2 r_1^2+ r_1^4) $"
   ]
  },
  {
   "cell_type": "code",
   "execution_count": 16,
   "metadata": {},
   "outputs": [
    {
     "name": "stdout",
     "output_type": "stream",
     "text": [
      "-1 -1\n",
      "a: 2\n",
      "b: -5\n",
      "c: -25\n",
      "[5.0, -2.5]\n"
     ]
    },
    {
     "ename": "TypeError",
     "evalue": "'float' object is not subscriptable",
     "output_type": "error",
     "traceback": [
      "\u001b[1;31m---------------------------------------------------------------------------\u001b[0m",
      "\u001b[1;31mTypeError\u001b[0m                                 Traceback (most recent call last)",
      "Cell \u001b[1;32mIn [16], line 31\u001b[0m\n\u001b[0;32m     29\u001b[0m         relativeResult[item] \u001b[38;5;241m=\u001b[39m (relativeResult[item][\u001b[38;5;241m0\u001b[39m] \u001b[38;5;241m+\u001b[39m coords2[\u001b[38;5;241m0\u001b[39m], relativeResult[item][\u001b[38;5;241m1\u001b[39m] \u001b[38;5;241m+\u001b[39m coords2[\u001b[38;5;241m1\u001b[39m])\n\u001b[0;32m     30\u001b[0m     \u001b[38;5;28;01mreturn\u001b[39;00m relativeResult\n\u001b[1;32m---> 31\u001b[0m \u001b[43mgetPointsFromCircles\u001b[49m\u001b[43m(\u001b[49m\u001b[43m[\u001b[49m\u001b[43m(\u001b[49m\u001b[38;5;241;43m0\u001b[39;49m\u001b[43m,\u001b[49m\u001b[43m \u001b[49m\u001b[38;5;241;43m1\u001b[39;49m\u001b[43m)\u001b[49m\u001b[43m,\u001b[49m\u001b[43m \u001b[49m\u001b[38;5;241;43m1\u001b[39;49m\u001b[43m]\u001b[49m\u001b[43m,\u001b[49m\u001b[43m \u001b[49m\u001b[43m[\u001b[49m\u001b[43m(\u001b[49m\u001b[38;5;241;43m1\u001b[39;49m\u001b[43m,\u001b[49m\u001b[43m \u001b[49m\u001b[38;5;241;43m2\u001b[39;49m\u001b[43m)\u001b[49m\u001b[43m,\u001b[49m\u001b[43m \u001b[49m\u001b[38;5;241;43m2\u001b[39;49m\u001b[43m]\u001b[49m\u001b[43m)\u001b[49m\n\u001b[0;32m     33\u001b[0m \u001b[38;5;28mprint\u001b[39m(abcSentence(\u001b[38;5;241m1\u001b[39m, \u001b[38;5;241m4\u001b[39m, \u001b[38;5;241m4\u001b[39m))\n",
      "Cell \u001b[1;32mIn [16], line 29\u001b[0m, in \u001b[0;36mgetPointsFromCircles\u001b[1;34m(c1, c2)\u001b[0m\n\u001b[0;32m     27\u001b[0m \u001b[38;5;28mprint\u001b[39m(relativeResult)\n\u001b[0;32m     28\u001b[0m \u001b[38;5;28;01mfor\u001b[39;00m item \u001b[38;5;129;01min\u001b[39;00m \u001b[38;5;28mrange\u001b[39m(\u001b[38;5;28mlen\u001b[39m(relativeResult)):\n\u001b[1;32m---> 29\u001b[0m     relativeResult[item] \u001b[38;5;241m=\u001b[39m (\u001b[43mrelativeResult\u001b[49m\u001b[43m[\u001b[49m\u001b[43mitem\u001b[49m\u001b[43m]\u001b[49m\u001b[43m[\u001b[49m\u001b[38;5;241;43m0\u001b[39;49m\u001b[43m]\u001b[49m \u001b[38;5;241m+\u001b[39m coords2[\u001b[38;5;241m0\u001b[39m], relativeResult[item][\u001b[38;5;241m1\u001b[39m] \u001b[38;5;241m+\u001b[39m coords2[\u001b[38;5;241m1\u001b[39m])\n\u001b[0;32m     30\u001b[0m \u001b[38;5;28;01mreturn\u001b[39;00m relativeResult\n",
      "\u001b[1;31mTypeError\u001b[0m: 'float' object is not subscriptable"
     ]
    }
   ],
   "source": [
    "import math\n",
    "\n",
    "def abcSentence(a, b, c): \n",
    "    results = []\n",
    "    for neg in [1, -1]:\n",
    "        result = (b * -1 + (neg * (math.sqrt(b**2 - 4 * (a * c))))) / (2 * a)\n",
    "        results.append(result)\n",
    "    return results\n",
    "\n",
    "def getPointsFromCircles(c1, c2): \n",
    "    coords1 = c1[0]\n",
    "    coords2 = c2[0]\n",
    "\n",
    "    x1 = coords1[0] - coords2[0]\n",
    "    y1 = coords1[1] - coords2[1]\n",
    "    print(str(x1) + \" \" + str(y1))\n",
    "    r1 = c1[1]\n",
    "    r2 = c2[1]\n",
    "\n",
    "    a = (1 + x1**2)\n",
    "    b = (y1 * (y1 + 2 * (r2**2-r1**2+x1**2+y1)))\n",
    "    c = -1 * (r2**2*(-x1*+2)-x1**4+2*x1*+2*y1**2+2*x1**2*r2**2-2*x1**2*r1**2+y1**4+2*y1**2*r2**2-2*y1**2*r1**2+r2**4-2*r2**2*r1**2+r1**4)\n",
    "    print(\"a: \" + str(a))\n",
    "    print(\"b: \" + str(b))\n",
    "    print(\"c: \" + str(c))\n",
    "    relativeResult = abcSentence(a, b, c)\n",
    "    print(relativeResult)\n",
    "    for item in range(len(relativeResult)):\n",
    "        relativeResult[item] = (relativeResult[item][0] + coords2[0], relativeResult[item][1] + coords2[1])\n",
    "    return relativeResult\n",
    "getPointsFromCircles([(0, 1), 1], [(1, 2), 2])\n",
    "\n",
    "print(abcSentence(1, 4, 4))"
   ]
  },
  {
   "cell_type": "markdown",
   "metadata": {},
   "source": [
    "$ x_{1,2} = \\frac{(-y_1*(y_1+2(r_2^2-r_1^2+x_1^2+y_1)))\\pm\\sqrt{(y_1*(y_1+2(r_2^2-r_1^2+x_1^2+y_1)))-4((1+x_1^2)*(-((r_2^2*-x_1^2)-x_1^4+2x_1^2y_1^2+2x_1^2r_2^2-2x_1^2r_1^2+y_1^4+2y_1^2r_2^2-2y_1^2r_1^2+r_2^4-2r_2^2r_1^2+r_1^4)))}}{2+2x_1^2} $"
   ]
  },
  {
   "cell_type": "markdown",
   "metadata": {},
   "source": [
    "$ -4((1+x_1^2) * (-((r_2^2*-x_1^2)-x_1^4+2x_1^2y_1^2+2x_1^2y_1^2-2x_1^2*(r_2^2-r_1^2)+y_1^4+2y_1^2*(r_2^2-r_1^2)+r_2^4-2r_2^2r_1^2+r_1^4))) $"
   ]
  },
  {
   "cell_type": "markdown",
   "metadata": {},
   "source": [
    "# Zusammensetzen: \n",
    "\n",
    "$((x+x_1)^2+(y+y_1)^2)-((x+x_2)^2+(y+y_2)^2)=(x^2+y^2+x_1*x+y_1*y+x^2_1+y^2_1)-(x^2+y^2+x_2*x+y_2*y+x^2_2+y^2_2)=r^2_1-r^2_2$"
   ]
  },
  {
   "cell_type": "markdown",
   "metadata": {},
   "source": [
    "$=(x_1-x_2)*x+(y_1-y_2)*y+(x_1^2+y_1^2)-(x_2^2+y_2^2) = r_1^2-r_2^2$\n",
    "\n"
   ]
  },
  {
   "cell_type": "markdown",
   "metadata": {},
   "source": [
    "# Y Ermitteln\n",
    "$=(x_1-x_2)*x+(x_1^2+y_1^2)-(x_2^2+y_2^2)=(r_1^2-r_2^2)-(y_1-y_2)*y$\n",
    "\n",
    "$=(x_1-x_2)*x+(x_1^2+y_1^2)-(x_2^2+y_2^2)-(r_1^2-r_2^2)=-(y_1-y_2)*y$\n",
    "\n",
    "$=\\frac{(x_1-x_2)*x+(x_1^2+y_1^2)-(x_2^2+y_2^2)-(r_1^2-r_2^2)}{-(y_1-y_2)}=y$"
   ]
  },
  {
   "cell_type": "markdown",
   "metadata": {},
   "source": [
    "# Y Ermitteln\n",
    "$=(x_1^2+y_1^2)-(x_2^2+y_2^2)=(r_1^2-r_2^2)-(y_1-y_2)*y-(x_1-x_2)*x$\n",
    "\n",
    "$=(x_1^2+y_1^2)-(x_2^2+y_2^2)-(r_1^2-r_2^2)=-(y_1-y_2)*y-(x_1-x_2)*x$\n",
    "\n",
    "$=\\frac{(x_1-x_2)*x+(x_1^2+y_1^2)-(x_2^2+y_2^2)-(r_1^2-r_2^2)}{-(y_1-y_2)}=y$"
   ]
  },
  {
   "cell_type": "markdown",
   "metadata": {},
   "source": [
    "# X Ermitteln \n",
    "$=(y_1-y_2)*y+(x_1^2+y_1^2)-(x_2^2+y_2^2) = (r_1^2-r_2^2)-(x_1-x_2)*x$\n",
    "\n",
    "$=(y_1-y_2)*y+(x_1^2+y_1^2)-(x_2^2+y_2^2) - (r_1^2-r_2^2) = -(x_1-x_2)*x$\n",
    "\n",
    "$=\\frac{(y_1-y_2)*y+(x_1^2+y_1^2)-(x_2^2+y_2^2) - (r_1^2-r_2^2)}{-(x_1-x_2)}=x$\n"
   ]
  },
  {
   "cell_type": "markdown",
   "metadata": {},
   "source": [
    "# Y einsetzen\n",
    "\n",
    "$(x+x_1)^2+(y+y_1)^2=r_1^2$\n",
    "\n",
    "$(x+x_1)^2+(\\frac{(x_1-x_2)*x+(x_1^2+y_1^2)-(x_2^2+y_2^2)-(r_1^2-r_2^2)}{-(y_1-y_2)}+y_1)^2=r_1^2$"
   ]
  },
  {
   "cell_type": "markdown",
   "metadata": {},
   "source": [
    "$(x+x_1)^2+(\\frac{(x_1-x_2)*x+(x_1^2+y_1^2)-(y_1^2+y_1*y_2)-(x_2^2+y_2^2)-(r^2_1-r^2_2)}{(y_1-y_2)})^2 = r_1^2$\n",
    "\n",
    "$(x+x_1)^2+(\\frac{(x_1-x_2)*x+(x_1^2)-(y_1*y_2)-(x_2^2+y_2^2)-(r^2_1-r^2_2)}{(y_1-y_2)})^2 = r_1^2$\n",
    "\n",
    "$(\\frac{(x_1-x_2)*x+(x_1^2)-(y_1*y_2)-(x_2^2+y_2^2)-(r^2_1-r^2_2)}{(y_1-y_2)})^2 = r_1^2-(x+x_1)^2$"
   ]
  }
 ],
 "metadata": {
  "kernelspec": {
   "display_name": "Python 3.9.7 64-bit",
   "language": "python",
   "name": "python3"
  },
  "language_info": {
   "codemirror_mode": {
    "name": "ipython",
    "version": 3
   },
   "file_extension": ".py",
   "mimetype": "text/x-python",
   "name": "python",
   "nbconvert_exporter": "python",
   "pygments_lexer": "ipython3",
   "version": "3.9.7"
  },
  "orig_nbformat": 4,
  "vscode": {
   "interpreter": {
    "hash": "81794d4967e6c3204c66dcd87b604927b115b27c00565d3d43f05ba2f3a2cb0d"
   }
  }
 },
 "nbformat": 4,
 "nbformat_minor": 2
}
