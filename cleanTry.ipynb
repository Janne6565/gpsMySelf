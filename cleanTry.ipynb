{
 "cells": [
  {
   "cell_type": "markdown",
   "metadata": {},
   "source": [
    "# Neuer Versuch \n",
    "Stx_1rt: \n",
    "\n",
    "$ = x_1x+y_1y+x_1^2+y_1^2-r_1^2+r_2^2 = 0$\n",
    "\n",
    "$ y_1y+x_1^2+y_1^2-r_1^2+r_2^2 = -x_1x $ | Minus $-x_1x$"
   ]
  },
  {
   "cell_type": "markdown",
   "metadata": {},
   "source": [
    "$ \\frac{y_1y+x_1^2+y_1^2-r_1^2+r_2^2}{-x_1} = x $ | Durch $-x_1$"
   ]
  },
  {
   "cell_type": "markdown",
   "metadata": {},
   "source": [
    "# Einsetzen \n",
    "\n",
    "$ x^2 + y^2 = r_2^2 $\n",
    "\n",
    "$ (\\frac{y_1y+x_1^2+y_1^2-r_1^2+r_2^2}{-x_1})^2 + y^2 = r_2^2 $"
   ]
  },
  {
   "cell_type": "markdown",
   "metadata": {},
   "source": [
    "$ \\frac{(y_1y+x_1^2+y_1^2-r_1^2+r_2^2)^2}{-x_1^2}+y^2=r_2^2 $"
   ]
  },
  {
   "cell_type": "markdown",
   "metadata": {},
   "source": [
    "$ \\frac{x_1^2 (x_1^2 + y_1 (2 y_1 + 2 y) - 2 r_1^2 + 2 r_2^2) + y_1 (y_1 (y_1 (y_1 + 2 y) - 2 r_1^2 + y^2 + 2 r_2^2) + (2 r_2^2 - 2 r_1^2) y) + r_1^2 (r_1^2 - 2 r_2^2) + r_2^4}{-x_1^2} +y^2 =r_2^2 $"
   ]
  },
  {
   "cell_type": "markdown",
   "metadata": {},
   "source": [
    "$ \\frac{x_1^2 (x_1^2 + y_1 (2 y_1 + 2 y) - 2 r_1^2 + 2 r_2^2) + y_1 (y_1 (y_1 (y_1 + 2 y) - 2 r_1^2 + y^2 + 2 r_2^2) + (2 r_2^2 - 2 r_1^2) y) + r_1^2 (r_1^2 - 2 r_2^2) + r_2^4-y^2x_1^2}{-x_1^2} = r_2^2 $"
   ]
  }
 ],
 "metadata": {
  "kernelspec": {
   "display_name": "Python 3.10.4 64-bit",
   "language": "python",
   "name": "python3"
  },
  "language_info": {
   "name": "python",
   "version": "3.10.4"
  },
  "orig_nbformat": 4,
  "vscode": {
   "interpreter": {
    "hash": "99b99253e4eefef4299a6bd3a6638cb63be660c296e729ed55b594abbca06309"
   }
  }
 },
 "nbformat": 4,
 "nbformat_minor": 2
}
