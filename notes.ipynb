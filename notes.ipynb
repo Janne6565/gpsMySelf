{
 "cells": [
  {
   "cell_type": "markdown",
   "metadata": {},
   "source": [
    "# Präsentation"
   ]
  },
  {
   "cell_type": "markdown",
   "metadata": {},
   "source": [
    "### GPS Itself:"
   ]
  },
  {
   "cell_type": "markdown",
   "metadata": {},
   "source": []
  },
  {
   "cell_type": "markdown",
   "metadata": {},
   "source": [
    "### Mathemathik: "
   ]
  },
  {
   "cell_type": "markdown",
   "metadata": {},
   "source": [
    "#### Gleichung für die Schnittpunkte: \n",
    "$\n",
    "x = y^2 \\cdot a + y \\cdot b + c \\newline\n",
    "a = 1 + \\frac{x_0^2}{y_0^2}\\newline\n",
    "b = -(\\frac{d \\cdot x_0}{y_0^2})\\newline\n",
    "c = \\frac{d^2}{4\\cdot y_0^2}-(r_1^2)\\newline\n",
    "d = r_2^2-r_1^2-x_0^2-y_0^2\n",
    "$\n",
    "##### ABC Formel anwenden: \n",
    "$ x_{0,1}=\\frac{-b+-\\sqrt{b^2-4ac}}{2a}$"
   ]
  },
  {
   "cell_type": "markdown",
   "metadata": {},
   "source": []
  }
 ],
 "metadata": {
  "kernelspec": {
   "display_name": "Python 3.9.7 64-bit",
   "language": "python",
   "name": "python3"
  },
  "language_info": {
   "name": "python",
   "version": "3.9.7"
  },
  "orig_nbformat": 4,
  "vscode": {
   "interpreter": {
    "hash": "81794d4967e6c3204c66dcd87b604927b115b27c00565d3d43f05ba2f3a2cb0d"
   }
  }
 },
 "nbformat": 4,
 "nbformat_minor": 2
}
