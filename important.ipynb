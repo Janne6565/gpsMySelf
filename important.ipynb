{
 "cells": [
  {
   "cell_type": "markdown",
   "metadata": {},
   "source": [
    "# GPS My self \n",
    "\n",
    "## Leitfrage\n",
    "\n",
    "### Wie könnte eine Ortsbestimmung auf einer Flachen Ebene aussehen? "
   ]
  },
  {
   "cell_type": "markdown",
   "metadata": {},
   "source": [
    "## Gliederung: \n",
    "\n",
    "1. Motivation (Warum) \n",
    "    1. Satelitentracking (Wie es in unserer Welt funktioniert)\n",
    "2. Interpretation (Was)\n",
    "    1. Simplifizierung des Problems\n",
    "    2. Konzeptionelle Neuverfassung\n",
    "3. Umsetzung (Wie) \n",
    "    1. Physikalisch\n",
    "        * Wahl des Mediums\n",
    "        * Schallanalyse\n",
    "    1. Informatisch\n",
    "        * Theoretisches Konzept\n",
    "        * Anwendung von Schallanalyse\n",
    "4. Konzeptidee für Umsetzung auf einer Flachen Ebene\n",
    "5. Experiment\n",
    "    1. Aufbau\n",
    "    2. Durchführung\n",
    "    3. Evaluation\n",
    "6. Eventuelle Probleme"
   ]
  }
 ],
 "metadata": {
  "language_info": {
   "name": "python"
  },
  "orig_nbformat": 4
 },
 "nbformat": 4,
 "nbformat_minor": 2
}
