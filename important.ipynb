{
 "cells": [
  {
   "cell_type": "markdown",
   "metadata": {},
   "source": [
    "# GPS My self \n",
    "\n",
    "## Leitfrage\n",
    "\n",
    "### Wie könnte eine Ortsbestimmung auf einer Flachen Ebene aussehen? "
   ]
  },
  {
   "cell_type": "markdown",
   "metadata": {},
   "source": [
    "## Gliederung: \n",
    "\n",
    "1. Motivation (Warum) \n",
    "    1. Satelitentracking (Wie es in unserer Welt funktioniert)\n",
    "2. Interpretation (Was)\n",
    "    1. Simplifizierung des Problems\n",
    "    2. Konzeptionelle Neuverfassung\n",
    "3. Umsetzung (Wie) \n",
    "    1. Physikalisch\n",
    "        * Wahl des Mediums\n",
    "        * Schallanalyse\n",
    "    1. Informatisch\n",
    "        * Theoretisches Konzept\n",
    "        * Anwendung von Schallanalyse\n",
    "        * Technische Begrenzungen\n",
    "4. Konzeptidee für Umsetzung auf einer Flachen Ebene\n",
    "5. Experiment\n",
    "    1. Aufbau\n",
    "    2. Durchführung\n",
    "    3. Evaluation\n",
    "6. Eventuelle Probleme"
   ]
  },
  {
   "cell_type": "markdown",
   "metadata": {},
   "source": [
    "## Literaturverzeichnis\n",
    "\n",
    "* https://en.wikipedia.org/wiki/Goertzel_algorithm\n",
    "* https://en.wikipedia.org/wiki/Fast_Fourier_transform\n",
    "* https://www.hans-riegel-fachpreise.com/fileadmin/hans-riegel-fachpreise/Module/ausgezeichnete-arbeiten/hans-riegel-fachpreise-seminararbeit-vwa-2014-koch.pdf\n",
    "* https://courses.cs.washington.edu/courses/cse466/12au/calendar/Goertzel-EETimes.pdf \n",
    "* https://www.tcs.ifi.lmu.de/lehre/ws-2010-11/kompl\n",
    "* https://pypi.org/project/sounddevice/\n",
    "* https://pypi.org/project/matplotlib/\n",
    "* https://www.ias.ac.in/article/fulltext/sadh/001/03/0235-0249 \n",
    "* https://www.researchgate.net/figure/Trilateration-in-a-2-D-space-with-two-anchor-points_fig1_224115960\n",
    "* Python for Dummies - Stef Maruch"
   ]
  }
 ],
 "metadata": {
  "kernelspec": {
   "display_name": "Python 3.9.7 64-bit",
   "language": "python",
   "name": "python3"
  },
  "language_info": {
   "name": "python",
   "version": "3.9.7"
  },
  "orig_nbformat": 4,
  "vscode": {
   "interpreter": {
    "hash": "81794d4967e6c3204c66dcd87b604927b115b27c00565d3d43f05ba2f3a2cb0d"
   }
  }
 },
 "nbformat": 4,
 "nbformat_minor": 2
}
