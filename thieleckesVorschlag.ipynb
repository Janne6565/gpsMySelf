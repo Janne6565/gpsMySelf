{
 "cells": [
  {
   "cell_type": "markdown",
   "metadata": {},
   "source": [
    "# X Erhalten\n",
    "$2xx_1+x_1^2+2yy_1+y_1^2=r_1^2-r_2^2$"
   ]
  },
  {
   "cell_type": "markdown",
   "metadata": {},
   "source": [
    "$x_1^2+2yy_1+y_1^2=r_1^2-r_2^2-2xx_1$ | $-2xx_1$"
   ]
  },
  {
   "cell_type": "markdown",
   "metadata": {},
   "source": [
    "$x_1^2+2yy_1+y_1^2-r_1^2+r_2^2=-2xx_1$ | $-(r_1^2-r_2^2)$"
   ]
  },
  {
   "cell_type": "markdown",
   "metadata": {},
   "source": [
    "$\\frac{x_1^2+2yy_1+y_1^2-r_1^2+r_2^2}{-2x_1} = x$"
   ]
  },
  {
   "cell_type": "markdown",
   "metadata": {},
   "source": [
    "# Einsetzen\n",
    "\n",
    "$x^2+y^2=r_2^2$\n"
   ]
  },
  {
   "cell_type": "markdown",
   "metadata": {},
   "source": [
    "$(\\frac{x_1^2+2yy_1+y_1^2-r_1^2+r_2^2}{-2x_1})^2+y^2=r_2^2$"
   ]
  },
  {
   "cell_type": "markdown",
   "metadata": {},
   "source": [
    "# Nebenrechnung: \n",
    "\n",
    "$(x_1^2+2yy_1+y_1^2-r_1^2+r_2^2)^2$"
   ]
  },
  {
   "cell_type": "markdown",
   "metadata": {},
   "source": [
    "$(x_1^2+2yy_1+y_1^2-r_1^2+r_2^2)*(x_1^2+2yy_1+y_1^2-r_1^2+r_2^2)$\n",
    "\n",
    "$=x_1^4+2yy_1x_1^2+x_1^2y_1^2-r_1^2x_1^2+r_2^2x_1^2+2yy_1x_1^2+(2yy_1)^2+2yy_1^3-r_1^22yy_1+r_2^22yy_1+y_1^2x_1^2+2yy_1^3+y_1^4-r_1^2y_1^2+r_2^2y_1^2-x_1^2r_1^2-2yy_1r_1^2-y_1^2r_1^2+r_1^4-r_1^2r_2^2+x_1^2r_2^2+2yy_1r_2^2+y_1^2r_2^2-r_1^2r_2^2+r_2^4$"
   ]
  },
  {
   "cell_type": "markdown",
   "metadata": {},
   "source": [
    "$ = x_1^4+4yy_1x_1^2+2x_1^2y_1^2-2r_1^2x_1^2+2r_2^2x_1^2+(2yy_1)^2+4yy_1^3-4yy_1r_1^2+4yy_1r_2^2+y_1^4-2r_1^2y_1^2+2y_1^2r_2^2+r_1^4-2r_1^2r_2^2+r_2^4$"
   ]
  },
  {
   "cell_type": "markdown",
   "metadata": {},
   "source": [
    "$(-2x_1)^2=(-2*x_1)*(-2*x_1)=4x_1^2$"
   ]
  },
  {
   "cell_type": "markdown",
   "metadata": {},
   "source": [
    "# Einsetzen\n",
    "\n",
    "$\\frac{x_1^4+4yy_1x_1^2+2x_1^2y_1^2-2r_1^2x_1^2+2r_2^2x_1^2+(2yy_1)^2+4yy_1^3-4yy_1r_1^2+4yy_1r_2^2+y_1^4-2r_1^2y_1^2+2y_1^2r_2^2+r_1^4-2r_1^2r_2^2+r_2^4}{4x_1^2}+y^2=r_2^2$"
   ]
  },
  {
   "cell_type": "markdown",
   "metadata": {},
   "source": [
    "$\\frac{x_1^4+4yy_1x_1^2+2x_1^2y_1^2-2r_1^2x_1^2+2r_2^2x_1^2+(2yy_1)^2+4yy_1^3-4yy_1r_1^2+4yy_1r_2^2+y_1^4-2r_1^2y_1^2+2y_1^2r_2^2+r_1^4-2r_1^2r_2^2+r_2^4+4x_1^2y^2}{4x_1^2}=r_2^2$"
   ]
  },
  {
   "cell_type": "markdown",
   "metadata": {},
   "source": [
    "$x_1^4+4yy_1x_1^2+2x_1^2y_1^2-2r_1^2x_1^2+2r_2^2x_1^2+(2yy_1)^2+4yy_1^3-4yy_1r_1^2+4yy_1r_2^2+y_1^4-2r_1^2y_1^2+2y_1^2r_2^2+r_1^4-2r_1^2r_2^2+r_2^4+4x_1^2y^2=r_2^2*4x_1^2$"
   ]
  },
  {
   "cell_type": "markdown",
   "metadata": {},
   "source": [
    "# Zusammenfassen\n",
    "\n",
    "$x_1^4+4yy_1x_1^2+2x_1^2y_1^2-2r_1^2x_1^2+2r_2^2x_1^2+(2yy_1)^2+4yy_1^3-4yy_1r_1^2+4yy_1r_2^2+y_1^4-2r_1^2y_1^2+2y_1^2r_2^2+r_1^4-2r_1^2r_2^2+r_2^4+4x_1^2y^2-(r_2^2*4x_1^2)=0$"
   ]
  },
  {
   "cell_type": "markdown",
   "metadata": {},
   "source": [
    "$y^2*a+y*b+c$\n",
    "\n",
    "$ c = x_1^4+2x_1^2y_1^2-2r_1^2x_1^2+2r_2^2x_1^2+y_1^4-2r_1^2y_1^2+2y_1^2r_2^2+r_1^4-2r_1^2r_2^2+r_2^4 -4x_1^2r_2^2$\n",
    "\n",
    "$ b = 4yy_1x_1^2+4yy_1^3-4yy_1r_1^2+4yy_1r_2^2 = y*4y_1(x_1^2+y_1-r_1^2+r_2^2)$\n",
    "\n",
    "$ a = 4x_1^2y^2 + (2yy_1)^2 = 4x_1^2y^2 + 4y^2y_1^2 = y^2*4(x_1^2+y_1^2)$"
   ]
  },
  {
   "cell_type": "markdown",
   "metadata": {},
   "source": [
    "$ 0 = y^2*4(x_1^2+y_1^2) + y*4y_1(x_1^2+y_1-r_1^2+r_2^2) + (x_1^4+2x_1^2y_1^2-2r_1^2x_1^2+2r_2^2x_1^2+y_1^4-2r_1^2y_1^2+2y_1^2r_2^2+r_1^4-2r_1^2r_2^2+r_2^4-4x_1^2r_2^2) $"
   ]
  },
  {
   "cell_type": "markdown",
   "metadata": {},
   "source": [
    "# ABC-Formel\n",
    "\n",
    "$ x_{0,1}=\\frac{-b\\pm\\sqrt{b^2-4ac}}{2a} $"
   ]
  },
  {
   "cell_type": "markdown",
   "metadata": {},
   "source": [
    "$ a = 4(x_1^2+y_1^2) $\n",
    "\n",
    "$ b = 4y_1(x_1^2+y_1-r_1^2+r_2^2) $\n",
    "\n",
    "$ c = x_1^4+2x_1^2y_1^2-2r_1^2x_1^2+2r_2^2x_1^2+y_1^4-2r_1^2y_1^2+2y_1^2r_2^2+r_1^4-2r_1^2r_2^2+r_2^4-4x_1^2r_2^2$"
   ]
  },
  {
   "cell_type": "code",
   "execution_count": 20,
   "metadata": {},
   "outputs": [
    {
     "name": "stdout",
     "output_type": "stream",
     "text": [
      "(x1, y1) (r1, r2): (2, 2) (1, 2)\n",
      "(a,b,c): (-32, 72, 57)\n",
      "inSqrt: 12480\n",
      "inSqrt: 12480\n",
      "[-0.6205300054711176, 2.8705300054711174]\n"
     ]
    }
   ],
   "source": [
    "import math\n",
    "\n",
    "# Format for Circle: \n",
    "# [(x, y), r]\n",
    "\n",
    "def useABC(a, b, c, debug):\n",
    "    results = [] \n",
    "    for neg in [1, -1]: \n",
    "        inSqrt = b**2-4*a*c\n",
    "        if (debug): \n",
    "            print(\"inSqrt: \" + str(inSqrt))\n",
    "        if (inSqrt < 0):\n",
    "            raise(Exception(\"Cant use sqrt on numbers < 0\"))\n",
    "        top = b * -1 + (neg*(math.sqrt(inSqrt))) \n",
    "        bot = 2*a\n",
    "        results.append(top/bot)\n",
    "\n",
    "    return results\n",
    "\n",
    "# Point one: (2, 2) r: 1\n",
    "# Point two: (0, 0) r: 2\n",
    "# Intersections (from GeoGebra): [(1.04, 1.7), (1.7, 1.04)]\n",
    "\n",
    "def calculateIntersections(c1, c2, debug): \n",
    "    x1 = c1[0][0] - c2[0][0]\n",
    "    y1 = c1[0][1] - c2[0][1]\n",
    "    r1 = c1[1]\n",
    "    r2 = c2[1]\n",
    "    if (debug):\n",
    "        print(\"(x1, y1) (r1, r2): \" + str((x1, y1)) + \" \" + str((r1, r2)))\n",
    "\n",
    "    a = 4 * (x1**2+y1**2)\n",
    "    b = 4 * y1*(x1**2+y1-r1**2+r2**2)\n",
    "    c = x1**4+2*x1**2*y1**2-2*r1**2*x1**2+2*r2**2*x1**2+y1**4-2*r1**2*y1**2+2*y1**2*r2**2+r1**4-2*r1**2*r2**2+r2**4-4*x1**2*r2**2\n",
    "    if (debug): \n",
    "        print(\"(a,b,c): \" + str((a, b, c)))\n",
    "    return useABC(a, b, c, debug)\n",
    "\n",
    "p1 = (2, 2)\n",
    "r1 = 1\n",
    "p2 = (0, 0)\n",
    "r2 = 2\n",
    "\n",
    "print(calculateIntersections([p1, r1], [p2, r2], True))\n"
   ]
  }
 ],
 "metadata": {
  "kernelspec": {
   "display_name": "Python 3.9.7 64-bit",
   "language": "python",
   "name": "python3"
  },
  "language_info": {
   "codemirror_mode": {
    "name": "ipython",
    "version": 3
   },
   "file_extension": ".py",
   "mimetype": "text/x-python",
   "name": "python",
   "nbconvert_exporter": "python",
   "pygments_lexer": "ipython3",
   "version": "3.9.7"
  },
  "orig_nbformat": 4,
  "vscode": {
   "interpreter": {
    "hash": "81794d4967e6c3204c66dcd87b604927b115b27c00565d3d43f05ba2f3a2cb0d"
   }
  }
 },
 "nbformat": 4,
 "nbformat_minor": 2
}
