{
 "cells": [
  {
   "cell_type": "markdown",
   "metadata": {},
   "source": [
    "# Gegeben: \n",
    "\n",
    "$x_1=0;y_1=2;r_1=4$ \n",
    "\n",
    "$x_2=1;y_2=3;r_2=3$"
   ]
  },
  {
   "cell_type": "markdown",
   "metadata": {},
   "source": [
    "# Formeln:\n",
    "\n",
    "$ (x+x_1)^2+(y+y_1)^2=r_1^2 $ \n",
    "\n",
    "$x^2+y^2+x_1*x+y_1*y+x_1^2+y_1^2=r_1^2$\n",
    "\n",
    "$ x^2+y^2=r_2^2 $ \n"
   ]
  },
  {
   "cell_type": "markdown",
   "metadata": {},
   "source": [
    "$ = x_1x+y_1y+x^2_1+y^2_1 = r_1^2-r_2^2 $\n"
   ]
  },
  {
   "cell_type": "markdown",
   "metadata": {},
   "source": [
    "# Neuer Versuch \n",
    "Start: \n",
    "\n",
    "$ = x_1x+y_1y+x_1^2+y_1^2-r_1^2+r_2^2 = 0$\n",
    "\n",
    "$ y_1y+x_1^2+y_1^2-r_1^2+r_2^2 = -x_1x $"
   ]
  },
  {
   "cell_type": "markdown",
   "metadata": {},
   "source": [
    "$ x = \\frac{y_1y+x_1^2+y_1^2-r_1^2+r_2^2}{-x_1}$\n",
    "\n",
    "$ 2x_1x+x_1^2+2y_1y+y_1^2 = r_1 $\n",
    "\n",
    "$ (\\frac{y_1y+x_1^2+y_1^2-r_1^2+r_2^2}{-x_1})^2 + y^2 = r_2^2 $"
   ]
  },
  {
   "cell_type": "markdown",
   "metadata": {},
   "source": [
    "$\\frac{x_1^4 + 2 x_1^2 y_1^2 + 2 x_1^2 y_1 y + 2 x_1^2 r_2^2 - 2 x_1^2 r_1^2 + y_1^4 + 2 y_1^3 y + 2 y_1^2 r_2^2 - 2 y_1^2 r_1^2 + y_1^2 y^2 + 2 y_1 r_2^2 y - 2 y_1 r_1^2 y + r_2^4 - 2 r_2^2 r_1^2 + r_1^4}{-x_1^2}+y^2=r_2^2$"
   ]
  },
  {
   "cell_type": "markdown",
   "metadata": {},
   "source": [
    "$ \\frac{x_1^4 + 2 x_1^2 y_1^2 + 2 x_1^2 y_1 y + 2 x_1^2 r_2^2 - 2 x_1^2 r_1^2 + y_1^4 + 2 y_1^3 y + 2 y_1^2 r_2^2 - 2 y_1^2 r_1^2 + y_1^2 y^2 + 2 y_1 r_2^2 y - 2 y_1 r_1^2 y + r_2^4 - 2 r_2^2 r_1^2 + r_1^4-x_1^2y^2}{-x_1^2}=r_2^2 $"
   ]
  },
  {
   "cell_type": "markdown",
   "metadata": {},
   "source": [
    "$ y_1^2 y^2 + 2 y_1 r_2^2 y - 2 y_1 r_1^2 y + 2 x_1^2 y_1 y - x_1^2y^2 + 2 y_1^3 y + d =r_2^2 * -x_1^2$"
   ]
  },
  {
   "cell_type": "markdown",
   "metadata": {},
   "source": [
    "$ y*(y+y_1^2+2y_1r_2^2-2y_1r_1^2+2x_1^2y_1-x_1^2y+2y_1^2) + d = r_2^2*-x_1^2 $"
   ]
  },
  {
   "cell_type": "markdown",
   "metadata": {},
   "source": [
    "$ y*(y+y_1*(y_1+2r_2^2-2r_1^2+2x_1^2+2y_1)-x_1^2y) + d = r_2^2*-x_1^2 $"
   ]
  },
  {
   "cell_type": "markdown",
   "metadata": {},
   "source": [
    "$ y*(y+y_1*(y_1+2* (r_2^2-r_1^2+x_1^2+y_1))-x_1^2y) + d = r_2^2*-x_1^2 $"
   ]
  },
  {
   "cell_type": "markdown",
   "metadata": {},
   "source": [
    "$ y*(y+y_1*(y_1+2r_2^2-2r_1^2+2x_1^2+2y_1)-x_1^2y) = r_2^2*-x_1^2 - d $"
   ]
  },
  {
   "cell_type": "markdown",
   "metadata": {},
   "source": [
    "$ d = x_1^4 + 2 x_1^2 y_1^2 + 2 x_1^2 r_2^2 - 2 x_1^2 r_1^2 + y_1^4 + 2 y_1^2 r_2^2 - 2 y_1^2 r_1^2 + r_2^4 - 2 r_2^2 r_1^2+ r_1^4 $"
   ]
  },
  {
   "cell_type": "markdown",
   "metadata": {},
   "source": [
    "$ y^2+y*(y_1*(y_1+2r_2^2-2r_1^2+2x_1^2+2y_1)-x_1^2y) - (r_2^2 * -x_1^2-d) = 0 $"
   ]
  },
  {
   "cell_type": "markdown",
   "metadata": {},
   "source": [
    "$ y^2+y*(y_1*(y_1+2r_2^2-2r_1^2+2x_1^2+2y_1)-x_1^2y) - newD = 0 $"
   ]
  },
  {
   "cell_type": "markdown",
   "metadata": {},
   "source": [
    "$ y^2+y^2x_1^2 + y * (y_1*(y_1 + 2(r_2^2-r_1^2+x_1^2+y_1))) - newD = 0 $"
   ]
  },
  {
   "cell_type": "markdown",
   "metadata": {},
   "source": [
    "$ y^2*(1+x_1^2) + y * (y_1*(y_1 + 2(r_2^2-r_1^2+x_1^2+y_1))) - newD = 0 $"
   ]
  },
  {
   "cell_type": "markdown",
   "metadata": {},
   "source": [
    "$ newD = (r_2^2*-x_1^2) - x_1^4 + 2 x_1^2 y_1^2 + 2 x_1^2 r_2^2 - 2 x_1^2 r_1^2 + y_1^4 + 2 y_1^2 r_2^2 - 2 y_1^2 r_1^2 + r_2^4 - 2 r_2^2 r_1^2+ r_1^4 $"
   ]
  },
  {
   "cell_type": "markdown",
   "metadata": {},
   "source": [
    "# Lets finish it\n",
    "\n",
    "$ a = (1+x_1^2) $\n",
    "\n",
    "$ b = (y_1*(y_1+2(r_2^2-r_1^2+x_1^2+y_1))) $ \n",
    "\n",
    "$ c = - ((r_2^2*-x_1^2) - x_1^4 + 2 x_1^2 y_1^2 + 2 x_1^2 r_2^2 - 2 x_1^2 r_1^2 + y_1^4 + 2 y_1^2 r_2^2 - 2 y_1^2 r_1^2 + r_2^4 - 2 r_2^2 r_1^2+ r_1^4) $"
   ]
  },
  {
   "cell_type": "markdown",
   "metadata": {},
   "source": [
    "$ x_{1,2} = \\frac{(-y_1*(y_1+2(r_2^2-r_1^2+x_1^2+y_1)))\\pm\\sqrt{(y_1*(y_1+2(r_2^2-r_1^2+x_1^2+y_1)))-4((1+x_1^2)*(-((r_2^2*-x_1^2)-x_1^4+2x_1^2y_1^2+2x_1^2r_2^2-2x_1^2r_1^2+y_1^4+2y_1^2r_2^2-2y_1^2r_1^2+r_2^4-2r_2^2r_1^2+r_1^4)))}}{2+2x_1^2} $"
   ]
  },
  {
   "cell_type": "markdown",
   "metadata": {},
   "source": [
    "# Zusammensetzen: \n",
    "\n",
    "$((x+x_1)^2+(y+y_1)^2)-((x+x_2)^2+(y+y_2)^2)=(x^2+y^2+x_1*x+y_1*y+x^2_1+y^2_1)-(x^2+y^2+x_2*x+y_2*y+x^2_2+y^2_2)=r^2_1-r^2_2$"
   ]
  },
  {
   "cell_type": "markdown",
   "metadata": {},
   "source": [
    "$=(x_1-x_2)*x+(y_1-y_2)*y+(x_1^2+y_1^2)-(x_2^2+y_2^2) = r_1^2-r_2^2$\n",
    "\n"
   ]
  },
  {
   "cell_type": "markdown",
   "metadata": {},
   "source": [
    "# Y Ermitteln\n",
    "$=(x_1-x_2)*x+(x_1^2+y_1^2)-(x_2^2+y_2^2)=(r_1^2-r_2^2)-(y_1-y_2)*y$\n",
    "\n",
    "$=(x_1-x_2)*x+(x_1^2+y_1^2)-(x_2^2+y_2^2)-(r_1^2-r_2^2)=-(y_1-y_2)*y$\n",
    "\n",
    "$=\\frac{(x_1-x_2)*x+(x_1^2+y_1^2)-(x_2^2+y_2^2)-(r_1^2-r_2^2)}{-(y_1-y_2)}=y$"
   ]
  },
  {
   "cell_type": "markdown",
   "metadata": {},
   "source": [
    "# Y Ermitteln\n",
    "$=(x_1^2+y_1^2)-(x_2^2+y_2^2)=(r_1^2-r_2^2)-(y_1-y_2)*y-(x_1-x_2)*x$\n",
    "\n",
    "$=(x_1^2+y_1^2)-(x_2^2+y_2^2)-(r_1^2-r_2^2)=-(y_1-y_2)*y-(x_1-x_2)*x$\n",
    "\n",
    "$=\\frac{(x_1-x_2)*x+(x_1^2+y_1^2)-(x_2^2+y_2^2)-(r_1^2-r_2^2)}{-(y_1-y_2)}=y$"
   ]
  },
  {
   "cell_type": "markdown",
   "metadata": {},
   "source": [
    "# X Ermitteln \n",
    "$=(y_1-y_2)*y+(x_1^2+y_1^2)-(x_2^2+y_2^2) = (r_1^2-r_2^2)-(x_1-x_2)*x$\n",
    "\n",
    "$=(y_1-y_2)*y+(x_1^2+y_1^2)-(x_2^2+y_2^2) - (r_1^2-r_2^2) = -(x_1-x_2)*x$\n",
    "\n",
    "$=\\frac{(y_1-y_2)*y+(x_1^2+y_1^2)-(x_2^2+y_2^2) - (r_1^2-r_2^2)}{-(x_1-x_2)}=x$\n"
   ]
  },
  {
   "cell_type": "markdown",
   "metadata": {},
   "source": [
    "# Y einsetzen\n",
    "\n",
    "$(x+x_1)^2+(y+y_1)^2=r_1^2$\n",
    "\n",
    "$(x+x_1)^2+(\\frac{(x_1-x_2)*x+(x_1^2+y_1^2)-(x_2^2+y_2^2)-(r_1^2-r_2^2)}{-(y_1-y_2)}+y_1)^2=r_1^2$"
   ]
  },
  {
   "cell_type": "markdown",
   "metadata": {},
   "source": [
    "$(x+x_1)^2+(\\frac{(x_1-x_2)*x+(x_1^2+y_1^2)-(y_1^2+y_1*y_2)-(x_2^2+y_2^2)-(r^2_1-r^2_2)}{(y_1-y_2)})^2 = r_1^2$\n",
    "\n",
    "$(x+x_1)^2+(\\frac{(x_1-x_2)*x+(x_1^2)-(y_1*y_2)-(x_2^2+y_2^2)-(r^2_1-r^2_2)}{(y_1-y_2)})^2 = r_1^2$\n",
    "\n",
    "$(\\frac{(x_1-x_2)*x+(x_1^2)-(y_1*y_2)-(x_2^2+y_2^2)-(r^2_1-r^2_2)}{(y_1-y_2)})^2 = r_1^2-(x+x_1)^2$"
   ]
  }
 ],
 "metadata": {
  "kernelspec": {
   "display_name": "Python 3.9.7 64-bit",
   "language": "python",
   "name": "python3"
  },
  "language_info": {
   "codemirror_mode": {
    "name": "ipython",
    "version": 3
   },
   "file_extension": ".py",
   "mimetype": "text/x-python",
   "name": "python",
   "nbconvert_exporter": "python",
   "pygments_lexer": "ipython3",
   "version": "3.9.7"
  },
  "orig_nbformat": 4,
  "vscode": {
   "interpreter": {
    "hash": "81794d4967e6c3204c66dcd87b604927b115b27c00565d3d43f05ba2f3a2cb0d"
   }
  }
 },
 "nbformat": 4,
 "nbformat_minor": 2
}
