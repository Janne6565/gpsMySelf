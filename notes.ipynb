{
 "cells": [
  {
   "cell_type": "markdown",
   "metadata": {},
   "source": [
    "# Präsentation"
   ]
  },
  {
   "cell_type": "markdown",
   "metadata": {},
   "source": [
    "### GPS Itself:"
   ]
  },
  {
   "cell_type": "markdown",
   "metadata": {},
   "source": []
  },
  {
   "cell_type": "markdown",
   "metadata": {},
   "source": [
    "### Mathemathik: "
   ]
  },
  {
   "cell_type": "markdown",
   "metadata": {},
   "source": [
    "#### Gleichung für die Schnittpunkte: \n",
    "$\n",
    "x = y^2 \\cdot a + y \\cdot b + c \\newline\n",
    "a = 1 + \\frac{x_0^2}{y_0^2}\\newline\n",
    "b = -(\\frac{d \\cdot x_0}{y_0^2})\\newline\n",
    "c = \\frac{d^2}{4\\cdot y_0^2}-(r_1^2)\\newline\n",
    "d = r_2^2-r_1^2-x_0^2-y_0^2\n",
    "$\n",
    "##### ABC Formel anwenden: \n",
    "$ x_{0,1}=\\frac{-b+-\\sqrt{b^2-4ac}}{2a}$"
   ]
  },
  {
   "cell_type": "code",
   "execution_count": 3,
   "metadata": {},
   "outputs": [
    {
     "ename": "Exception",
     "evalue": "Cant use sqrt on numbers < 0",
     "output_type": "error",
     "traceback": [
      "\u001b[1;31m---------------------------------------------------------------------------\u001b[0m",
      "\u001b[1;31mException\u001b[0m                                 Traceback (most recent call last)",
      "Cell \u001b[1;32mIn [3], line 14\u001b[0m\n\u001b[0;32m     11\u001b[0m         results\u001b[38;5;241m.\u001b[39mappend(top\u001b[38;5;241m/\u001b[39mbot)\n\u001b[0;32m     13\u001b[0m     \u001b[38;5;28;01mreturn\u001b[39;00m results\n\u001b[1;32m---> 14\u001b[0m \u001b[38;5;28mprint\u001b[39m(\u001b[43museABC\u001b[49m\u001b[43m(\u001b[49m\u001b[38;5;241;43m2\u001b[39;49m\u001b[43m,\u001b[49m\u001b[43m \u001b[49m\u001b[38;5;241;43m10\u001b[39;49m\u001b[43m,\u001b[49m\u001b[43m \u001b[49m\u001b[38;5;241;43m57\u001b[39;49m\u001b[43m,\u001b[49m\u001b[43m \u001b[49m\u001b[38;5;28;43;01mTrue\u001b[39;49;00m\u001b[43m)\u001b[49m)\n\u001b[0;32m     15\u001b[0m \u001b[38;5;28;01mdef\u001b[39;00m \u001b[38;5;21mcalc\u001b[39m(c1, c2): \n\u001b[0;32m     16\u001b[0m     xr \u001b[38;5;241m=\u001b[39m c1[\u001b[38;5;241m0\u001b[39m][\u001b[38;5;241m0\u001b[39m] \u001b[38;5;241m-\u001b[39m c2[\u001b[38;5;241m0\u001b[39m][\u001b[38;5;241m0\u001b[39m]\n",
      "Cell \u001b[1;32mIn [3], line 8\u001b[0m, in \u001b[0;36museABC\u001b[1;34m(a, b, c, debug)\u001b[0m\n\u001b[0;32m      6\u001b[0m inSqrt \u001b[38;5;241m=\u001b[39m b\u001b[38;5;241m*\u001b[39m\u001b[38;5;241m*\u001b[39m\u001b[38;5;241m2\u001b[39m\u001b[38;5;241m-\u001b[39m\u001b[38;5;241m4\u001b[39m\u001b[38;5;241m*\u001b[39ma\u001b[38;5;241m*\u001b[39mc\n\u001b[0;32m      7\u001b[0m \u001b[38;5;28;01mif\u001b[39;00m (inSqrt \u001b[38;5;241m<\u001b[39m \u001b[38;5;241m0\u001b[39m):\n\u001b[1;32m----> 8\u001b[0m     \u001b[38;5;28;01mraise\u001b[39;00m(\u001b[38;5;167;01mException\u001b[39;00m(\u001b[38;5;124m\"\u001b[39m\u001b[38;5;124mCant use sqrt on numbers < 0\u001b[39m\u001b[38;5;124m\"\u001b[39m))\n\u001b[0;32m      9\u001b[0m top \u001b[38;5;241m=\u001b[39m b \u001b[38;5;241m*\u001b[39m \u001b[38;5;241m-\u001b[39m\u001b[38;5;241m1\u001b[39m \u001b[38;5;241m+\u001b[39m (neg\u001b[38;5;241m*\u001b[39m(math\u001b[38;5;241m.\u001b[39msqrt(inSqrt))) \n\u001b[0;32m     10\u001b[0m bot \u001b[38;5;241m=\u001b[39m \u001b[38;5;241m2\u001b[39m\u001b[38;5;241m*\u001b[39ma\n",
      "\u001b[1;31mException\u001b[0m: Cant use sqrt on numbers < 0"
     ]
    }
   ],
   "source": [
    "import math\n",
    "\n",
    "def useABC(a, b, c, debug):\n",
    "    results = [] \n",
    "    for neg in [1, -1]: \n",
    "        inSqrt = b**2-4*a*c\n",
    "        if (inSqrt < 0):\n",
    "            raise(Exception(\"Cant use sqrt on numbers < 0\"))\n",
    "        top = b * -1 + (neg*(math.sqrt(inSqrt))) \n",
    "        bot = 2*a\n",
    "        results.append(top/bot)\n",
    "\n",
    "    return results\n",
    " \n",
    "print(useABC(2, 10, 57, True))\n",
    "def calc(c1, c2): \n",
    "    xr = c1[0][0] - c2[0][0]\n",
    "    yr = c1[0][1] - c2[0][1]\n",
    "    r1 = c1[1]\n",
    "    r2 = c2[1]\n",
    "    \n",
    "    d = xr**2 + yr**2 - r1**2+r2**2\n",
    "    a = 2 * (yr**2+xr**2)\n",
    "    b = 4 * d * yr\n",
    "    c = d**2 - r2**2*(2*xr**2)\n",
    "    print(useABC(a, b, c))\n",
    "\n",
    "def calculateWithAxys0(c1, c2, debug): \n",
    "    xr = c1[0][0] - c2[0][0]\n",
    "    yr = c1[0][1] - c2[0][1]\n",
    "    r1 = c1[1]\n",
    "    r2 = c2[1]\n",
    "\n",
    "    # Wenn eine Achse = 0 (sonst 0 division)\n",
    "    if (xr == 0 and yr != 0):\n",
    "        xy = [xr, yr]\n",
    "    elif (yr == 0 and xr != 0): \n",
    "        xy = [yr, xr]\n",
    "    else: \n",
    "        circlesSameSpot(c1, c2, debug)\n",
    "    y = (r2**2-r1**2-xy[1]**2)/(2*xy[1]) \n",
    "    xVals = []\n",
    "    for val in [1, -1]: \n",
    "        xVals.append(val * math.sqrt(r1**2-y**2))\n",
    "    return [(y, xVals[0]), (y, xVals[1])]\n",
    "    \n",
    "\n",
    "def circlesSameSpot(c1, c2, debug): \n",
    "    if (c1 == c2): \n",
    "        raise(\"Circles are the same\")\n",
    "    else: \n",
    "        raise(\"Circles are not touching\")\n",
    "\n",
    "\n",
    "def calculateIntersections(c1, c2, debug): \n",
    "    xr = c1[0][0] - c2[0][0]\n",
    "    yr = c1[0][1] - c2[0][1]\n",
    "    r1 = c1[1]\n",
    "    r2 = c2[1]\n",
    "    if (math.sqrt(xr**2 + yr**2) > r1 + r2):  # Punkte zu weit entfernt \n",
    "        raise(\"Circles are too far apart\") \n",
    "\n",
    "    if (xr == 0 or yr == 0):\n",
    "        return calculateWithAxys0(c1, c2, debug)\n",
    "    \n",
    "    if (debug):\n",
    "        print(\"(x1, y1) (r1, r2): \" + str((xr, yr)) + \" \" + str((r1, r2)))\n",
    "    \n",
    "    resultForX = []\n",
    "    resultForY = []\n",
    "    for xy in [(xr, yr, resultForX), (yr, xr, resultForY)]: \n",
    "        d = (r2**2-r1**2)-xy[0]**2-xy[1]**2\n",
    "        a = 1 + (xy[0]**2)/(xy[1]**2)   \n",
    "        b = -((d * xy[0])/(xy[1]**2))\n",
    "        c = (d**2)/(4*xy[1]**2)-(r1**2)\n",
    "        if (debug):\n",
    "            print(\"(a,b,c): \" + str((a, b, c)))\n",
    "        xy[2].append(useABC(a, b, c, debug))\n",
    "    \n",
    "    resultForX = resultForX[0]\n",
    "    resultForY = resultForY[0]\n",
    "    points = []\n",
    "    for i in range(len(resultForX)): \n",
    "        points.append((resultForX[i], resultForY[len(resultForY) - i - 1]))\n",
    "\n",
    "    return points\n",
    "\n",
    "p1 = (-1, -2)\n",
    "r1 = 2\n",
    "p2 = (0, 0)\n",
    "r2 = 1\n",
    "\n",
    "print(calculateIntersections([p1, r1], [p2, r2], False))\n",
    "calc([p1, r1], [p2, r2])"
   ]
  },
  {
   "cell_type": "markdown",
   "metadata": {},
   "source": []
  }
 ],
 "metadata": {
  "kernelspec": {
   "display_name": "Python 3.9.7 64-bit",
   "language": "python",
   "name": "python3"
  },
  "language_info": {
   "codemirror_mode": {
    "name": "ipython",
    "version": 3
   },
   "file_extension": ".py",
   "mimetype": "text/x-python",
   "name": "python",
   "nbconvert_exporter": "python",
   "pygments_lexer": "ipython3",
   "version": "3.9.7"
  },
  "orig_nbformat": 4,
  "vscode": {
   "interpreter": {
    "hash": "81794d4967e6c3204c66dcd87b604927b115b27c00565d3d43f05ba2f3a2cb0d"
   }
  }
 },
 "nbformat": 4,
 "nbformat_minor": 2
}
