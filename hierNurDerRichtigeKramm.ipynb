{
 "cells": [
  {
   "cell_type": "code",
   "execution_count": 5,
   "metadata": {},
   "outputs": [
    {
     "name": "stdout",
     "output_type": "stream",
     "text": [
      "(x1, y1) (r1, r2): (-16, -2) (7.1, 11.5)\n",
      "(a,b,c): (65.0, -712.64, 1933.4016)\n",
      "(a,b,c): (1.015625, -1.391875, -19.412943749999997)\n",
      "[(6.035016339627955, -3.7401307170236215), (4.928675968064353, 5.11059225548516)]\n"
     ]
    }
   ],
   "source": [
    "import math\n",
    "\n",
    "# Format for Circle: \n",
    "# [(x, y), r]\n",
    "\n",
    "def useABC(a, b, c, debug):\n",
    "    results = [] \n",
    "    for neg in [1, -1]: \n",
    "        inSqrt = b**2-4*a*c\n",
    "        if (inSqrt < 0):\n",
    "            raise(Exception(\"Cant use sqrt on numbers < 0\"))\n",
    "        top = b * -1 + (neg*(math.sqrt(inSqrt))) \n",
    "        bot = 2*a\n",
    "        results.append(top/bot)\n",
    "\n",
    "    return results\n",
    "\n",
    "# Point one: (2, 2) r: 1\n",
    "# Point two: (0, 0) r: 2\n",
    "# Intersections (from GeoGebra): [(1.04, 1.7), (1.7, 1.04)]\n",
    "\n",
    "def calculateForOneIsX(c1, c2, debug): \n",
    "    xr = c1[0][0] - c2[0][0]\n",
    "    yr = c1[0][1] - c2[0][1]\n",
    "    r1 = c1[1]\n",
    "    r2 = c2[1]\n",
    "    operations = None\n",
    "    if (xr == 0 and yr != 0):\n",
    "        y = (r2**2-r1**2-yr**2)/(2*yr) \n",
    "        xVals = []\n",
    "        for val in [1, -1]: \n",
    "            xVals.append(val * math.sqrt(r1**2-y**2))\n",
    "        return [(xVals[0], y), (xVals[1], y)]\n",
    "    elif (yr == 0 and xr != 0): \n",
    "        x = (r2**2-r1**2-xr**2)/(2*xr)\n",
    "        yVals = []\n",
    "        print(x)\n",
    "        for val in [1, -1]: \n",
    "            yVals.append(val * math.sqrt(r1**2-x**2))\n",
    "        return [(x, yVals[0]), (x, yVals[1])]\n",
    "    else: \n",
    "        circlesTouch(c1, c2, debug)\n",
    "\n",
    "def circlesTouch(c1, c2, debug): \n",
    "    return None\n",
    "\n",
    "def calculateIntersections(c1, c2, debug): \n",
    "    xr = c1[0][0] - c2[0][0]\n",
    "    yr = c1[0][1] - c2[0][1]\n",
    "    r1 = c1[1]\n",
    "    r2 = c2[1]\n",
    "    if (math.sqrt(xr**2 + yr**2) > r1 + r2): \n",
    "        return None\n",
    "\n",
    "    if (xr == 0 or yr == 0):\n",
    "        return calculateForOneIsX(c1, c2, debug)\n",
    "    \n",
    "    if (debug):\n",
    "        print(\"(x1, y1) (r1, r2): \" + str((xr, yr)) + \" \" + str((r1, r2)))\n",
    "    resultForX = []\n",
    "    resultForY = []\n",
    "    for xy in [(xr, yr, resultForX), (yr, xr, resultForY)]: \n",
    "        d = (r2**2-r1**2)-xy[0]**2-xy[1]**2\n",
    "        a = 1 + (xy[0]**2)/(xy[1]**2)\n",
    "        b = -((d * xy[0])/(xy[1]**2))\n",
    "        c = (d**2)/(4*xy[1]**2)-(r1**2)\n",
    "        if (debug):\n",
    "            print(\"(a,b,c): \" + str((a, b, c)))\n",
    "        xy[2].append(useABC(a, b, c, debug))\n",
    "\n",
    "    resultForX = resultForX[0]\n",
    "    resultForY = resultForY[0]\n",
    "    points = []\n",
    "    for i in range(len(resultForX)): \n",
    "        points.append((resultForX[i], resultForY[len(resultForY) - i - 1]))\n",
    "\n",
    "    return points\n",
    "\n",
    "\n",
    "p1 = (-16, -2)\n",
    "r1 = 7.1\n",
    "p2 = (0, 0)\n",
    "r2 = 11.5\n",
    "\n",
    "print(calculateIntersections([p1, r1], [p2, r2], True))\n"
   ]
  },
  {
   "cell_type": "markdown",
   "metadata": {},
   "source": [
    "# Formeln Aktuell: \n",
    "\n",
    "### Formel: $ y^2 \\cdot a+y \\cdot b+c = 0 $\n",
    "\n",
    "Wenn $x_r \\not= 0 \\land y_r \\not= 0$\n"
   ]
  },
  {
   "cell_type": "markdown",
   "metadata": {},
   "source": [
    "Für $x$:\n",
    "\n",
    "$ a = 1 + \\frac{x_r^2}{y_r^2} $\n",
    "\n",
    "$ b = -(\\frac{d\\cdot x_r}{y_r^2}) $\n",
    "\n",
    "$ c = \\frac{d^2}{4y_r^2} - r_1^2 $\n",
    "\n",
    "$ d = (r_2^2-r_1^2)-x_r^2-y_r^2$"
   ]
  },
  {
   "cell_type": "markdown",
   "metadata": {},
   "source": [
    "Für $y$:\n",
    "\n",
    "$ a = 1 + \\frac{y_r^2}{x_r^2} $\n",
    "\n",
    "$ b = -(\\frac{d\\cdot y_r}{x_r^2}) $\n",
    "\n",
    "$ c = \\frac{d^2}{4x_r^2} - r_1^2 $\n",
    "\n",
    "$ d = (r_2^2-r_1^2)-y_r^2-x_r^2$\n",
    "\n",
    "$ 0 = y^2 \\cdot a + y \\cdot b + c = y^2 \\cdot (1 + \\frac{y_r^2}{x_r^2}) + y \\cdot -(\\frac{d\\cdot y_r}{x_r^2}) + (\\frac{d^2}{4x_r^2} - r_1^2)$ "
   ]
  }
 ],
 "metadata": {
  "kernelspec": {
   "display_name": "Python 3.10.4 64-bit",
   "language": "python",
   "name": "python3"
  },
  "language_info": {
   "codemirror_mode": {
    "name": "ipython",
    "version": 3
   },
   "file_extension": ".py",
   "mimetype": "text/x-python",
   "name": "python",
   "nbconvert_exporter": "python",
   "pygments_lexer": "ipython3",
   "version": "3.10.4"
  },
  "orig_nbformat": 4,
  "vscode": {
   "interpreter": {
    "hash": "99b99253e4eefef4299a6bd3a6638cb63be660c296e729ed55b594abbca06309"
   }
  }
 },
 "nbformat": 4,
 "nbformat_minor": 2
}
