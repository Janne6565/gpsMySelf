{
 "cells": [
  {
   "cell_type": "markdown",
   "metadata": {},
   "source": [
    "$$r_1^2 = (x+x_r)^2 + (y+y_r)^2 \\newline\n",
    "r_2^2 = x^2 + y^2 \\newline \n",
    "\n",
    "r_1^2 - r_2^2 = (x+x_r)^2 + (y+y_r)^2 - x^2 - y^2 \\newline\n",
    "r_1^2 - r_2^2 = 2xx_r + x_r^2 + 2yy_r + y_r^2$$"
   ]
  },
  {
   "cell_type": "markdown",
   "metadata": {},
   "source": [
    "$$\n",
    "\n",
    "r_1^2 - r_2^2 = 2x_r + x_r^2 + 2yy_r+y_r^2 \\newline\n",
    "\n",
    "r_1^2 - r_2^2 - 2xx_r = x_r^2 + 2yy_r + y_r^2 \\newline\n",
    "\n",
    "2xx_r = x_r^2 + 2yy_r + y_r^2 - r_1^2 + r_2^2 \\newline \n",
    "\n",
    "x = \\frac{x_r^2+2yy_r+y_r^2-r_1^2+r_2^2}{2x_r}\n",
    "\n",
    "$$"
   ]
  },
  {
   "cell_type": "markdown",
   "metadata": {},
   "source": [
    "$$\n",
    "\n",
    "x = \\frac{2yy_r + d}{2x_r} \\newline \n",
    "d = x_r^2 + y_r^2-r_1^2+r_2^2 \\newline\n",
    "\n",
    "$$"
   ]
  },
  {
   "cell_type": "markdown",
   "metadata": {},
   "source": [
    "$$\n",
    "\n",
    "d = r_2^2 - r_1^2 - x_r^2 - y_r^2\n",
    "\n",
    "$$"
   ]
  },
  {
   "cell_type": "markdown",
   "metadata": {},
   "source": [
    "$$\n",
    "\n",
    "x^2 + y^2 = r_2^2 \\newline \n",
    "(\\frac{2yy_r + d}{2x_r})^2 + y^2 = r_2^2 \\newline \n",
    "\n",
    "\\frac{4yy_r^2 + d^2 + 2dyy_r^2}{4x_r^2} + y^2 = r_2^2 \\newline \n",
    "\n",
    "$$"
   ]
  },
  {
   "cell_type": "markdown",
   "metadata": {},
   "source": [
    "$$\n",
    "\n",
    "\\frac{4yy_r^2 + d^2 + 2dyy_r^2 + 4y^2x_r^2}{4x_r^2} = r_2^2\n",
    "\n",
    "$$"
   ]
  },
  {
   "cell_type": "markdown",
   "metadata": {},
   "source": [
    "$$\n",
    "\n",
    "4yy_r^2 + d^2 + 2dyy_r^2 + 4y^2x_r^2 = r_2^2 \\cdot 4x_r^2\n",
    "\n",
    "$$"
   ]
  },
  {
   "cell_type": "markdown",
   "metadata": {},
   "source": [
    "$$\n",
    "\n",
    "4yy_r^2 + d^2 + 2dyy_r^2 + 4y^2x_r^2 - (r_2^2 \\cdot 4x_r^2) = 0\n",
    "\n",
    "$$"
   ]
  },
  {
   "cell_type": "markdown",
   "metadata": {},
   "source": [
    "$$\n",
    "\n",
    "y^2 \\cdot (4 * x_r^2) + y \\cdot (2dy_r^2 + 4y_r^2) + (d^2 - 4x_r^2r_2^2) = 0\n",
    "\n",
    "$$"
   ]
  },
  {
   "cell_type": "markdown",
   "metadata": {},
   "source": []
  },
  {
   "cell_type": "markdown",
   "metadata": {},
   "source": []
  },
  {
   "cell_type": "markdown",
   "metadata": {},
   "source": [
    "$$\n",
    "\n",
    "(x + x_r)^2 + (y + y_r)^2 = r_1^2 \\newline \n",
    "x^2 + y^2 = r_2^2\n",
    "\n",
    "$$"
   ]
  },
  {
   "cell_type": "markdown",
   "metadata": {},
   "source": [
    "## Ziel:\n",
    "\n",
    "$$\n",
    "\n",
    "y^2 \\cdot (1 + \\frac{x_r^2}{y_r^2}) + y \\cdot \\frac{-(dx_r)}{-y_r^2} + \\frac{d^2}{4y_r^2}-r_1^2 = 0 \n",
    "\n",
    "$$"
   ]
  },
  {
   "cell_type": "markdown",
   "metadata": {},
   "source": [
    "$$\n",
    "\n",
    "y^2 + \\frac{x_r^2 \\cdot y^2 + y \\cdot d \\cdot x_r}{y_r^2} + \\frac{d^2}{4y_r^2} - r_1^2 = 0\n",
    "\n",
    "$$"
   ]
  },
  {
   "cell_type": "markdown",
   "metadata": {},
   "source": [
    "$$\n",
    "\n",
    "r_1^2 = (\\frac{x_r^2 \\cdot y^2 + ydx_r}{y_r^2} + \\frac{d^2}{4y_r^2}) + y^2\n",
    "\n",
    "$$"
   ]
  },
  {
   "cell_type": "markdown",
   "metadata": {},
   "source": [
    "$$ d = (r_2^2 - r_1^2) - x_r^2 - y_r^2 $$"
   ]
  },
  {
   "cell_type": "markdown",
   "metadata": {},
   "source": [
    "$$\n",
    "\n",
    "r_1^2 = \\frac{x_r^2 \\cdot y^2 + yx_rr_2^2 - yx_rr_1-yx_r^3-yy_r^2x_r^2}{y_r^2} + \\frac{r_2^2-r_1^2-x_r^2-y_r^2}{4y_r^2} + y^2\n",
    "\n",
    "$$"
   ]
  }
 ],
 "metadata": {
  "kernelspec": {
   "display_name": "Python 3.9.7 64-bit",
   "language": "python",
   "name": "python3"
  },
  "language_info": {
   "name": "python",
   "version": "3.9.7"
  },
  "orig_nbformat": 4,
  "vscode": {
   "interpreter": {
    "hash": "81794d4967e6c3204c66dcd87b604927b115b27c00565d3d43f05ba2f3a2cb0d"
   }
  }
 },
 "nbformat": 4,
 "nbformat_minor": 2
}
